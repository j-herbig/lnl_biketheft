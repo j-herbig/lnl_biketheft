{
 "cells": [
  {
   "cell_type": "markdown",
   "metadata": {},
   "source": [
    "---\n",
    "modules"
   ]
  },
  {
   "cell_type": "code",
   "execution_count": 1,
   "metadata": {},
   "outputs": [],
   "source": [
    "import pandas as pd\n",
    "import numpy as np\n",
    "\n",
    "import geopandas as gpd\n",
    "\n",
    "from keplergl import KeplerGl\n",
    "import h3\n",
    "# import googlemaps"
   ]
  },
  {
   "cell_type": "markdown",
   "metadata": {},
   "source": [
    "---\n",
    "creating datasets"
   ]
  },
  {
   "cell_type": "markdown",
   "metadata": {},
   "source": [
    "bike theft data  \n",
    "\n",
    "[Website zum Datensatz daten.berlin.de](https://daten.berlin.de/datensaetze/fahrraddiebstahl-berlin)\n",
    "\n",
    "- Lizenz:\n",
    "    - Creative Commons Namensnennung CC-BY License\n",
    "- Kategorie:\n",
    "   - Öffentliche Sicherheit\n",
    "- Geographische Abdeckung: \n",
    "    - Berlin\n",
    "- Geographische Granularität: \n",
    "    - Berlin\n",
    "- Zeitliche Granularität: \n",
    "    - Tag\n",
    "- Veröffentlicht: \n",
    "    - 08.09.2021\n",
    "- Aktualisiert: \n",
    "    - 09.09.2021\n",
    "- Veröffentlichende Stelle: \n",
    "    - Polizei Berlin LKA St 14\n",
    "- E-Mail Kontakt: \n",
    "    - onlineredaktion AT polizei.berlin.de"
   ]
  },
  {
   "cell_type": "code",
   "execution_count": 2,
   "metadata": {},
   "outputs": [
    {
     "data": {
      "text/html": [
       "<div><div id=c60f32c0-b65f-4af6-8adf-7b24827c9076 style=\"display:none; background-color:#9D6CFF; color:white; width:200px; height:30px; padding-left:5px; border-radius:4px; flex-direction:row; justify-content:space-around; align-items:center;\" onmouseover=\"this.style.backgroundColor='#BA9BF8'\" onmouseout=\"this.style.backgroundColor='#9D6CFF'\" onclick=\"window.commands?.execute('create-mitosheet-from-dataframe-output');\">See Full Dataframe in Mito</div> <script> if (window.commands.hasCommand('create-mitosheet-from-dataframe-output')) document.getElementById('c60f32c0-b65f-4af6-8adf-7b24827c9076').style.display = 'flex' </script> <table border=\"1\" class=\"dataframe\">\n",
       "  <thead>\n",
       "    <tr style=\"text-align: right;\">\n",
       "      <th></th>\n",
       "      <th>angelegt_am</th>\n",
       "      <th>tatzeit_anfang_datum</th>\n",
       "      <th>tatzeit_anfang_stunde</th>\n",
       "      <th>tatzeit_ende_datum</th>\n",
       "      <th>tatzeit_ende_stunde</th>\n",
       "      <th>lor</th>\n",
       "      <th>schadenshoehe</th>\n",
       "      <th>versuch</th>\n",
       "      <th>art_des_fahrrads</th>\n",
       "      <th>delikt</th>\n",
       "      <th>erfassungsgrund</th>\n",
       "    </tr>\n",
       "  </thead>\n",
       "  <tbody>\n",
       "    <tr>\n",
       "      <th>0</th>\n",
       "      <td>14.09.2020</td>\n",
       "      <td>10.09.2020</td>\n",
       "      <td>10</td>\n",
       "      <td>10.09.2020</td>\n",
       "      <td>12</td>\n",
       "      <td>3400723</td>\n",
       "      <td>706</td>\n",
       "      <td>Nein</td>\n",
       "      <td>Damenfahrrad</td>\n",
       "      <td>Fahrraddiebstahl</td>\n",
       "      <td>Sonstiger schwerer Diebstahl von Fahrrädern</td>\n",
       "    </tr>\n",
       "    <tr>\n",
       "      <th>1</th>\n",
       "      <td>29.09.2020</td>\n",
       "      <td>09.09.2020</td>\n",
       "      <td>16</td>\n",
       "      <td>10.09.2020</td>\n",
       "      <td>7</td>\n",
       "      <td>9200716</td>\n",
       "      <td>220</td>\n",
       "      <td>Nein</td>\n",
       "      <td>Damenfahrrad</td>\n",
       "      <td>Fahrraddiebstahl</td>\n",
       "      <td>Sonstiger schwerer Diebstahl von Fahrrädern</td>\n",
       "    </tr>\n",
       "  </tbody>\n",
       "</table></div>"
      ],
      "text/plain": [
       "  angelegt_am tatzeit_anfang_datum  tatzeit_anfang_stunde tatzeit_ende_datum  \\\n",
       "0  14.09.2020           10.09.2020                     10         10.09.2020   \n",
       "1  29.09.2020           09.09.2020                     16         10.09.2020   \n",
       "\n",
       "   tatzeit_ende_stunde      lor  schadenshoehe versuch art_des_fahrrads  \\\n",
       "0                   12  3400723            706    Nein     Damenfahrrad   \n",
       "1                    7  9200716            220    Nein     Damenfahrrad   \n",
       "\n",
       "             delikt                              erfassungsgrund  \n",
       "0  Fahrraddiebstahl  Sonstiger schwerer Diebstahl von Fahrrädern  \n",
       "1  Fahrraddiebstahl  Sonstiger schwerer Diebstahl von Fahrrädern  "
      ]
     },
     "execution_count": 2,
     "metadata": {},
     "output_type": "execute_result"
    }
   ],
   "source": [
    "# df = pd.read_csv('data/Fahrraddiebstahl.csv') # not running, encoding must be set!\n",
    "df = pd.read_csv('data/Fahrraddiebstahl.csv', encoding='latin-1')\n",
    "df.columns = df.columns.str.lower()\n",
    "df.head(2)"
   ]
  },
  {
   "cell_type": "code",
   "execution_count": 3,
   "metadata": {},
   "outputs": [
    {
     "data": {
      "text/plain": [
       "Index(['angelegt_am', 'tatzeit_anfang_datum', 'tatzeit_anfang_stunde',\n",
       "       'tatzeit_ende_datum', 'tatzeit_ende_stunde', 'lor', 'schadenshoehe',\n",
       "       'versuch', 'art_des_fahrrads', 'delikt', 'erfassungsgrund', 'lor_zf',\n",
       "       'plr_id', 'bzr_id', 'pgr_id'],\n",
       "      dtype='object')"
      ]
     },
     "execution_count": 3,
     "metadata": {},
     "output_type": "execute_result"
    }
   ],
   "source": [
    "df['lor_str'] = df['lor'].map(lambda x: (str(x)))\n",
    "df['lor_zf'] = df['lor_str'].apply(lambda x: x.zfill(8)) #lor zero fill\n",
    "df['plr_id'] = df['lor_zf'].map(lambda x: (x))\n",
    "df['bzr_id'] = df['lor_zf'].map(lambda x: (x)[-6:])\n",
    "df['pgr_id'] = df['lor_zf'].map(lambda x: (x)[-4:])\n",
    "\n",
    "df.drop(columns='lor_str', inplace=True)\n",
    "\n",
    "df.columns"
   ]
  },
  {
   "cell_type": "markdown",
   "metadata": {},
   "source": [
    "LOR shapefile to geopandas dataframe\n",
    "\n",
    "_data/LOR_SHP_2021/lor_plr.shp_  \n",
    "_data/LOR_SHP_2021/lor_bzr.shp_  \n",
    "_data/LOR_SHP_2021/lor_pgr.shp_  \n",
    "\n",
    "PLR: 8 digits, most granular  \n",
    "BZR: 6 digits  \n",
    "PGR: 4 digits"
   ]
  },
  {
   "cell_type": "code",
   "execution_count": 4,
   "metadata": {},
   "outputs": [],
   "source": [
    "gdf = gpd.GeoDataFrame.from_file('data/LOR_SHP_2021/lor_plr.shp') #.replace({-999: None})\n",
    "gdf.columns = gdf.columns.str.lower()"
   ]
  },
  {
   "cell_type": "code",
   "execution_count": 5,
   "metadata": {},
   "outputs": [],
   "source": [
    "#transforms dataframe to new crs - coordinate reference system, here utm to wgs/latlong\n",
    "gdf_wgs = gdf.to_crs({'proj':'longlat', 'ellps':'WGS84', 'datum':'WGS84'})"
   ]
  },
  {
   "cell_type": "code",
   "execution_count": 6,
   "metadata": {},
   "outputs": [],
   "source": [
    "# creating centroids of polygons as gpd point wkt\n",
    "gdf_wgs['points'] = gdf_wgs['geometry'].centroid\n",
    "\n",
    "# extracting lat and long from the point geometry\n",
    "gdf_wgs[\"lat\"] = gdf_wgs.points.y\n",
    "gdf_wgs[\"lon\"] = gdf_wgs.points.x\n",
    "\n",
    "\n",
    "# drop point geometry to not confuse kepler (to gdf geometry columns are misleading)\n",
    "gdf_wgs.drop(columns='points', inplace=True)"
   ]
  },
  {
   "cell_type": "code",
   "execution_count": 7,
   "metadata": {},
   "outputs": [
    {
     "name": "stdout",
     "output_type": "stream",
     "text": [
      "<class 'geopandas.geodataframe.GeoDataFrame'>\n",
      "RangeIndex: 542 entries, 0 to 541\n",
      "Data columns (total 5 columns):\n",
      " #   Column    Non-Null Count  Dtype   \n",
      "---  ------    --------------  -----   \n",
      " 0   plr_id    542 non-null    object  \n",
      " 1   plr_name  542 non-null    object  \n",
      " 2   geometry  542 non-null    geometry\n",
      " 3   lat       542 non-null    float64 \n",
      " 4   lon       542 non-null    float64 \n",
      "dtypes: float64(2), geometry(1), object(2)\n",
      "memory usage: 21.3+ KB\n"
     ]
    }
   ],
   "source": [
    "gdf_wgs.info()"
   ]
  },
  {
   "cell_type": "markdown",
   "metadata": {},
   "source": [
    "---\n",
    "plotting shapes/centroids in kepler"
   ]
  },
  {
   "cell_type": "code",
   "execution_count": 41,
   "metadata": {},
   "outputs": [
    {
     "name": "stdout",
     "output_type": "stream",
     "text": [
      "User Guide: https://docs.kepler.gl/docs/keplergl-jupyter\n"
     ]
    }
   ],
   "source": [
    "map_1 = KeplerGl(height=800) #create an instance of this class"
   ]
  },
  {
   "cell_type": "code",
   "execution_count": 42,
   "metadata": {},
   "outputs": [],
   "source": [
    "map_1.add_data(data=gdf_wgs, name='LOR')"
   ]
  },
  {
   "cell_type": "code",
   "execution_count": 43,
   "metadata": {},
   "outputs": [
    {
     "data": {
      "application/vnd.jupyter.widget-view+json": {
       "model_id": "2116c69bb30b4f99b7d9c83442c724c8",
       "version_major": 2,
       "version_minor": 0
      },
      "text/plain": [
       "KeplerGl(data={'LOR': {'index': [0, 1, 2, 3, 4, 5, 6, 7, 8, 9, 10, 11, 12, 13, 14, 15, 16, 17, 18, 19, 20, 21,…"
      ]
     },
     "metadata": {},
     "output_type": "display_data"
    }
   ],
   "source": [
    "map_1"
   ]
  },
  {
   "cell_type": "markdown",
   "metadata": {},
   "source": [
    "---\n",
    "merging"
   ]
  },
  {
   "cell_type": "code",
   "execution_count": 11,
   "metadata": {},
   "outputs": [
    {
     "name": "stdout",
     "output_type": "stream",
     "text": [
      "<class 'pandas.core.frame.DataFrame'>\n",
      "RangeIndex: 39407 entries, 0 to 39406\n",
      "Data columns (total 15 columns):\n",
      " #   Column                 Non-Null Count  Dtype \n",
      "---  ------                 --------------  ----- \n",
      " 0   angelegt_am            39407 non-null  object\n",
      " 1   tatzeit_anfang_datum   39407 non-null  object\n",
      " 2   tatzeit_anfang_stunde  39407 non-null  int64 \n",
      " 3   tatzeit_ende_datum     39407 non-null  object\n",
      " 4   tatzeit_ende_stunde    39407 non-null  int64 \n",
      " 5   lor                    39407 non-null  int64 \n",
      " 6   schadenshoehe          39407 non-null  int64 \n",
      " 7   versuch                39407 non-null  object\n",
      " 8   art_des_fahrrads       39407 non-null  object\n",
      " 9   delikt                 39407 non-null  object\n",
      " 10  erfassungsgrund        39407 non-null  object\n",
      " 11  lor_zf                 39407 non-null  object\n",
      " 12  plr_id                 39407 non-null  object\n",
      " 13  bzr_id                 39407 non-null  object\n",
      " 14  pgr_id                 39407 non-null  object\n",
      "dtypes: int64(4), object(11)\n",
      "memory usage: 4.5+ MB\n"
     ]
    }
   ],
   "source": [
    "df.info()"
   ]
  },
  {
   "cell_type": "code",
   "execution_count": 12,
   "metadata": {},
   "outputs": [
    {
     "name": "stdout",
     "output_type": "stream",
     "text": [
      "<class 'geopandas.geodataframe.GeoDataFrame'>\n",
      "RangeIndex: 542 entries, 0 to 541\n",
      "Data columns (total 5 columns):\n",
      " #   Column    Non-Null Count  Dtype   \n",
      "---  ------    --------------  -----   \n",
      " 0   plr_id    542 non-null    object  \n",
      " 1   plr_name  542 non-null    object  \n",
      " 2   geometry  542 non-null    geometry\n",
      " 3   lat       542 non-null    float64 \n",
      " 4   lon       542 non-null    float64 \n",
      "dtypes: float64(2), geometry(1), object(2)\n",
      "memory usage: 21.3+ KB\n"
     ]
    }
   ],
   "source": [
    "gdf_wgs.info()"
   ]
  },
  {
   "cell_type": "code",
   "execution_count": 13,
   "metadata": {},
   "outputs": [
    {
     "name": "stdout",
     "output_type": "stream",
     "text": [
      "<class 'geopandas.geodataframe.GeoDataFrame'>\n",
      "Int64Index: 39407 entries, 0 to 39406\n",
      "Data columns (total 19 columns):\n",
      " #   Column                 Non-Null Count  Dtype   \n",
      "---  ------                 --------------  -----   \n",
      " 0   plr_id                 39407 non-null  object  \n",
      " 1   plr_name               39407 non-null  object  \n",
      " 2   geometry               39407 non-null  geometry\n",
      " 3   lat                    39407 non-null  float64 \n",
      " 4   lon                    39407 non-null  float64 \n",
      " 5   angelegt_am            39407 non-null  object  \n",
      " 6   tatzeit_anfang_datum   39407 non-null  object  \n",
      " 7   tatzeit_anfang_stunde  39407 non-null  int64   \n",
      " 8   tatzeit_ende_datum     39407 non-null  object  \n",
      " 9   tatzeit_ende_stunde    39407 non-null  int64   \n",
      " 10  lor                    39407 non-null  int64   \n",
      " 11  schadenshoehe          39407 non-null  int64   \n",
      " 12  versuch                39407 non-null  object  \n",
      " 13  art_des_fahrrads       39407 non-null  object  \n",
      " 14  delikt                 39407 non-null  object  \n",
      " 15  erfassungsgrund        39407 non-null  object  \n",
      " 16  lor_zf                 39407 non-null  object  \n",
      " 17  bzr_id                 39407 non-null  object  \n",
      " 18  pgr_id                 39407 non-null  object  \n",
      "dtypes: float64(2), geometry(1), int64(4), object(12)\n",
      "memory usage: 6.0+ MB\n"
     ]
    }
   ],
   "source": [
    "df_combined = gdf_wgs.merge(df, on='plr_id')\n",
    "df_combined.info()"
   ]
  },
  {
   "cell_type": "code",
   "execution_count": 14,
   "metadata": {},
   "outputs": [
    {
     "data": {
      "text/plain": [
       "(39407, 19)"
      ]
     },
     "execution_count": 14,
     "metadata": {},
     "output_type": "execute_result"
    }
   ],
   "source": [
    "df_combined.dropna(axis=0, inplace=True)\n",
    "df_combined.shape"
   ]
  },
  {
   "cell_type": "code",
   "execution_count": 15,
   "metadata": {},
   "outputs": [
    {
     "data": {
      "text/plain": [
       "shapely.geometry.polygon.Polygon"
      ]
     },
     "execution_count": 15,
     "metadata": {},
     "output_type": "execute_result"
    }
   ],
   "source": [
    "type(df_combined.geometry[0])"
   ]
  },
  {
   "cell_type": "markdown",
   "metadata": {},
   "source": [
    "---\n",
    "plotting df_combined\n",
    "\n",
    "39.407 observations: rendering interrupted aftzer 6 minutes  \n",
    "1.000 observations: map not zoomable, loses shapes  \n",
    "\n",
    "so ... creating a grouped dataframe counting the thefts"
   ]
  },
  {
   "cell_type": "code",
   "execution_count": 16,
   "metadata": {},
   "outputs": [
    {
     "data": {
      "text/html": [
       "<div><div id=c416948a-b195-43aa-ad45-b21896196eca style=\"display:none; background-color:#9D6CFF; color:white; width:200px; height:30px; padding-left:5px; border-radius:4px; flex-direction:row; justify-content:space-around; align-items:center;\" onmouseover=\"this.style.backgroundColor='#BA9BF8'\" onmouseout=\"this.style.backgroundColor='#9D6CFF'\" onclick=\"window.commands?.execute('create-mitosheet-from-dataframe-output');\">See Full Dataframe in Mito</div> <script> if (window.commands.hasCommand('create-mitosheet-from-dataframe-output')) document.getElementById('c416948a-b195-43aa-ad45-b21896196eca').style.display = 'flex' </script> <table border=\"1\" class=\"dataframe\">\n",
       "  <thead>\n",
       "    <tr style=\"text-align: right;\">\n",
       "      <th></th>\n",
       "      <th>plr_id</th>\n",
       "      <th>delikt</th>\n",
       "    </tr>\n",
       "  </thead>\n",
       "  <tbody>\n",
       "    <tr>\n",
       "      <th>0</th>\n",
       "      <td>01100101</td>\n",
       "      <td>71</td>\n",
       "    </tr>\n",
       "    <tr>\n",
       "      <th>1</th>\n",
       "      <td>01100102</td>\n",
       "      <td>148</td>\n",
       "    </tr>\n",
       "    <tr>\n",
       "      <th>2</th>\n",
       "      <td>01100103</td>\n",
       "      <td>118</td>\n",
       "    </tr>\n",
       "    <tr>\n",
       "      <th>3</th>\n",
       "      <td>01100104</td>\n",
       "      <td>103</td>\n",
       "    </tr>\n",
       "    <tr>\n",
       "      <th>4</th>\n",
       "      <td>01100205</td>\n",
       "      <td>43</td>\n",
       "    </tr>\n",
       "  </tbody>\n",
       "</table></div>"
      ],
      "text/plain": [
       "     plr_id  delikt\n",
       "0  01100101      71\n",
       "1  01100102     148\n",
       "2  01100103     118\n",
       "3  01100104     103\n",
       "4  01100205      43"
      ]
     },
     "execution_count": 16,
     "metadata": {},
     "output_type": "execute_result"
    }
   ],
   "source": [
    "df_plr_group = df.groupby(by='plr_id').count().reset_index()\n",
    "df_plr_group = df_plr_group[['plr_id', 'delikt']]\n",
    "df_plr_group.head()"
   ]
  },
  {
   "cell_type": "code",
   "execution_count": 60,
   "metadata": {},
   "outputs": [
    {
     "name": "stdout",
     "output_type": "stream",
     "text": [
      "<class 'geopandas.geodataframe.GeoDataFrame'>\n",
      "Int64Index: 540 entries, 0 to 539\n",
      "Data columns (total 6 columns):\n",
      " #   Column    Non-Null Count  Dtype   \n",
      "---  ------    --------------  -----   \n",
      " 0   plr_id    540 non-null    object  \n",
      " 1   plr_name  540 non-null    object  \n",
      " 2   geometry  540 non-null    geometry\n",
      " 3   lat       540 non-null    float64 \n",
      " 4   lon       540 non-null    float64 \n",
      " 5   delikt    540 non-null    int64   \n",
      "dtypes: float64(2), geometry(1), int64(1), object(2)\n",
      "memory usage: 29.5+ KB\n"
     ]
    }
   ],
   "source": [
    "df_combined = gdf_wgs.merge(df_plr_group, on='plr_id')\n",
    "df_combined.info()"
   ]
  },
  {
   "cell_type": "markdown",
   "metadata": {},
   "source": [
    "adding this leads to whitescreen, wtf?!"
   ]
  },
  {
   "cell_type": "code",
   "execution_count": 61,
   "metadata": {},
   "outputs": [],
   "source": [
    "# adding h3 hexbin h3_id\n",
    "# df_combined['hex'] = df_combined.apply(lambda x: h3.geo_to_h3(x.lat, x.lon, resolution = 7), axis = 1)"
   ]
  },
  {
   "cell_type": "code",
   "execution_count": 62,
   "metadata": {},
   "outputs": [
    {
     "ename": "AttributeError",
     "evalue": "'GeoDataFrame' object has no attribute 'hex'",
     "output_type": "error",
     "traceback": [
      "\u001b[0;31m---------------------------------------------------------------------------\u001b[0m",
      "\u001b[0;31mAttributeError\u001b[0m                            Traceback (most recent call last)",
      "\u001b[0;32m/var/folders/70/6qt3pskn57j8vcjtb1b20ybm0000gn/T/ipykernel_35726/2065974430.py\u001b[0m in \u001b[0;36m<module>\u001b[0;34m\u001b[0m\n\u001b[0;32m----> 1\u001b[0;31m \u001b[0mdf_combined\u001b[0m\u001b[0;34m.\u001b[0m\u001b[0mhex\u001b[0m\u001b[0;34m.\u001b[0m\u001b[0munique\u001b[0m\u001b[0;34m\u001b[0m\u001b[0;34m\u001b[0m\u001b[0m\n\u001b[0m",
      "\u001b[0;32m~/opt/anaconda3/envs/students/lib/python3.8/site-packages/pandas/core/generic.py\u001b[0m in \u001b[0;36m__getattr__\u001b[0;34m(self, name)\u001b[0m\n\u001b[1;32m   5485\u001b[0m         ):\n\u001b[1;32m   5486\u001b[0m             \u001b[0;32mreturn\u001b[0m \u001b[0mself\u001b[0m\u001b[0;34m[\u001b[0m\u001b[0mname\u001b[0m\u001b[0;34m]\u001b[0m\u001b[0;34m\u001b[0m\u001b[0;34m\u001b[0m\u001b[0m\n\u001b[0;32m-> 5487\u001b[0;31m         \u001b[0;32mreturn\u001b[0m \u001b[0mobject\u001b[0m\u001b[0;34m.\u001b[0m\u001b[0m__getattribute__\u001b[0m\u001b[0;34m(\u001b[0m\u001b[0mself\u001b[0m\u001b[0;34m,\u001b[0m \u001b[0mname\u001b[0m\u001b[0;34m)\u001b[0m\u001b[0;34m\u001b[0m\u001b[0;34m\u001b[0m\u001b[0m\n\u001b[0m\u001b[1;32m   5488\u001b[0m \u001b[0;34m\u001b[0m\u001b[0m\n\u001b[1;32m   5489\u001b[0m     \u001b[0;32mdef\u001b[0m \u001b[0m__setattr__\u001b[0m\u001b[0;34m(\u001b[0m\u001b[0mself\u001b[0m\u001b[0;34m,\u001b[0m \u001b[0mname\u001b[0m\u001b[0;34m:\u001b[0m \u001b[0mstr\u001b[0m\u001b[0;34m,\u001b[0m \u001b[0mvalue\u001b[0m\u001b[0;34m)\u001b[0m \u001b[0;34m->\u001b[0m \u001b[0;32mNone\u001b[0m\u001b[0;34m:\u001b[0m\u001b[0;34m\u001b[0m\u001b[0;34m\u001b[0m\u001b[0m\n",
      "\u001b[0;31mAttributeError\u001b[0m: 'GeoDataFrame' object has no attribute 'hex'"
     ]
    }
   ],
   "source": [
    "df_combined.hex.unique"
   ]
  },
  {
   "cell_type": "code",
   "execution_count": 19,
   "metadata": {},
   "outputs": [
    {
     "name": "stdout",
     "output_type": "stream",
     "text": [
      "<class 'geopandas.geodataframe.GeoDataFrame'>\n",
      "Int64Index: 540 entries, 0 to 539\n",
      "Data columns (total 7 columns):\n",
      " #   Column    Non-Null Count  Dtype   \n",
      "---  ------    --------------  -----   \n",
      " 0   plr_id    540 non-null    object  \n",
      " 1   plr_name  540 non-null    object  \n",
      " 2   geometry  540 non-null    geometry\n",
      " 3   lat       540 non-null    float64 \n",
      " 4   lon       540 non-null    float64 \n",
      " 5   delikt    540 non-null    int64   \n",
      " 6   hex       540 non-null    object  \n",
      "dtypes: float64(2), geometry(1), int64(1), object(3)\n",
      "memory usage: 33.8+ KB\n"
     ]
    }
   ],
   "source": [
    "df_combined.info()"
   ]
  },
  {
   "cell_type": "code",
   "execution_count": 67,
   "metadata": {},
   "outputs": [
    {
     "name": "stdout",
     "output_type": "stream",
     "text": [
      "User Guide: https://docs.kepler.gl/docs/keplergl-jupyter\n"
     ]
    }
   ],
   "source": [
    "map_2 = KeplerGl(height=800)"
   ]
  },
  {
   "cell_type": "code",
   "execution_count": 68,
   "metadata": {},
   "outputs": [],
   "source": [
    "map_2.add_data(data=df_combined, name='PLR')"
   ]
  },
  {
   "cell_type": "code",
   "execution_count": 69,
   "metadata": {},
   "outputs": [
    {
     "data": {
      "application/vnd.jupyter.widget-view+json": {
       "model_id": "4fe03fd853b3478fb7efe8ceb360315b",
       "version_major": 2,
       "version_minor": 0
      },
      "text/plain": [
       "KeplerGl(data={'PLR': {'index': [0, 1, 2, 3, 4, 5, 6, 7, 8, 9, 10, 11, 12, 13, 14, 15, 16, 17, 18, 19, 20, 21,…"
      ]
     },
     "metadata": {},
     "output_type": "display_data"
    }
   ],
   "source": [
    "map_2"
   ]
  },
  {
   "cell_type": "code",
   "execution_count": 71,
   "metadata": {},
   "outputs": [],
   "source": [
    "map_conf = map_2.config"
   ]
  },
  {
   "cell_type": "code",
   "execution_count": 74,
   "metadata": {},
   "outputs": [
    {
     "data": {
      "text/plain": [
       "{'version': 'v1',\n",
       " 'config': {'visState': {'filters': [],\n",
       "   'layers': [{'id': 'ffw53pr',\n",
       "     'type': 'point',\n",
       "     'config': {'dataId': 'PLR',\n",
       "      'label': 'Point',\n",
       "      'color': [246, 209, 138],\n",
       "      'highlightColor': [252, 242, 26, 255],\n",
       "      'columns': {'lat': 'lat', 'lng': 'lon', 'altitude': None},\n",
       "      'isVisible': False,\n",
       "      'visConfig': {'radius': 10,\n",
       "       'fixedRadius': False,\n",
       "       'opacity': 0.8,\n",
       "       'outline': False,\n",
       "       'thickness': 2,\n",
       "       'strokeColor': None,\n",
       "       'colorRange': {'name': 'Global Warming',\n",
       "        'type': 'sequential',\n",
       "        'category': 'Uber',\n",
       "        'colors': ['#5A1846',\n",
       "         '#900C3F',\n",
       "         '#C70039',\n",
       "         '#E3611C',\n",
       "         '#F1920E',\n",
       "         '#FFC300']},\n",
       "       'strokeColorRange': {'name': 'Global Warming',\n",
       "        'type': 'sequential',\n",
       "        'category': 'Uber',\n",
       "        'colors': ['#5A1846',\n",
       "         '#900C3F',\n",
       "         '#C70039',\n",
       "         '#E3611C',\n",
       "         '#F1920E',\n",
       "         '#FFC300']},\n",
       "       'radiusRange': [0, 50],\n",
       "       'filled': True},\n",
       "      'hidden': False,\n",
       "      'textLabel': [{'field': None,\n",
       "        'color': [255, 255, 255],\n",
       "        'size': 18,\n",
       "        'offset': [0, 0],\n",
       "        'anchor': 'start',\n",
       "        'alignment': 'center'}]},\n",
       "     'visualChannels': {'colorField': {'name': 'delikt', 'type': 'integer'},\n",
       "      'colorScale': 'quantile',\n",
       "      'strokeColorField': None,\n",
       "      'strokeColorScale': 'quantile',\n",
       "      'sizeField': None,\n",
       "      'sizeScale': 'linear'}},\n",
       "    {'id': '6ns6ty8',\n",
       "     'type': 'geojson',\n",
       "     'config': {'dataId': 'PLR',\n",
       "      'label': 'PLR',\n",
       "      'color': [183, 136, 94],\n",
       "      'highlightColor': [252, 242, 26, 255],\n",
       "      'columns': {'geojson': 'geometry'},\n",
       "      'isVisible': True,\n",
       "      'visConfig': {'opacity': 0.8,\n",
       "       'strokeOpacity': 0.8,\n",
       "       'thickness': 0.5,\n",
       "       'strokeColor': [255, 203, 153],\n",
       "       'colorRange': {'name': 'Uber Viz Diverging 1.5',\n",
       "        'type': 'diverging',\n",
       "        'category': 'Uber',\n",
       "        'colors': ['#00939C',\n",
       "         '#5DBABF',\n",
       "         '#BAE1E2',\n",
       "         '#F8C0AA',\n",
       "         '#DD7755',\n",
       "         '#C22E00']},\n",
       "       'strokeColorRange': {'name': 'Global Warming',\n",
       "        'type': 'sequential',\n",
       "        'category': 'Uber',\n",
       "        'colors': ['#5A1846',\n",
       "         '#900C3F',\n",
       "         '#C70039',\n",
       "         '#E3611C',\n",
       "         '#F1920E',\n",
       "         '#FFC300']},\n",
       "       'radius': 10,\n",
       "       'sizeRange': [0, 10],\n",
       "       'radiusRange': [0, 50],\n",
       "       'heightRange': [0, 500],\n",
       "       'elevationScale': 7.7,\n",
       "       'enableElevationZoomFactor': True,\n",
       "       'stroked': True,\n",
       "       'filled': True,\n",
       "       'enable3d': True,\n",
       "       'wireframe': False},\n",
       "      'hidden': False,\n",
       "      'textLabel': [{'field': None,\n",
       "        'color': [255, 255, 255],\n",
       "        'size': 18,\n",
       "        'offset': [0, 0],\n",
       "        'anchor': 'start',\n",
       "        'alignment': 'center'}]},\n",
       "     'visualChannels': {'colorField': {'name': 'delikt', 'type': 'integer'},\n",
       "      'colorScale': 'quantize',\n",
       "      'strokeColorField': None,\n",
       "      'strokeColorScale': 'quantile',\n",
       "      'sizeField': None,\n",
       "      'sizeScale': 'linear',\n",
       "      'heightField': {'name': 'delikt', 'type': 'integer'},\n",
       "      'heightScale': 'sqrt',\n",
       "      'radiusField': None,\n",
       "      'radiusScale': 'linear'}}],\n",
       "   'interactionConfig': {'tooltip': {'fieldsToShow': {'PLR': [{'name': 'plr_id',\n",
       "        'format': None},\n",
       "       {'name': 'plr_name', 'format': None},\n",
       "       {'name': 'delikt', 'format': None}]},\n",
       "     'compareMode': False,\n",
       "     'compareType': 'absolute',\n",
       "     'enabled': True},\n",
       "    'brush': {'size': 0.5, 'enabled': False},\n",
       "    'geocoder': {'enabled': False},\n",
       "    'coordinate': {'enabled': False}},\n",
       "   'layerBlending': 'normal',\n",
       "   'splitMaps': [],\n",
       "   'animationConfig': {'currentTime': None, 'speed': 1}},\n",
       "  'mapState': {'bearing': 10.544988841983923,\n",
       "   'dragRotate': True,\n",
       "   'latitude': 52.538166052299175,\n",
       "   'longitude': 13.403681710018382,\n",
       "   'pitch': 35.48792633635693,\n",
       "   'zoom': 9.763515349558878,\n",
       "   'isSplit': False},\n",
       "  'mapStyle': {'styleType': 'dark',\n",
       "   'topLayerGroups': {},\n",
       "   'visibleLayerGroups': {'label': True,\n",
       "    'road': True,\n",
       "    'border': False,\n",
       "    'building': True,\n",
       "    'water': True,\n",
       "    'land': True,\n",
       "    '3d building': False},\n",
       "   'threeDBuildingColor': [9.665468314072013,\n",
       "    17.18305478057247,\n",
       "    31.1442867897876],\n",
       "   'mapStyles': {}}}}"
      ]
     },
     "execution_count": 74,
     "metadata": {},
     "output_type": "execute_result"
    }
   ],
   "source": [
    "map_conf"
   ]
  },
  {
   "cell_type": "code",
   "execution_count": 77,
   "metadata": {},
   "outputs": [
    {
     "name": "stdout",
     "output_type": "stream",
     "text": [
      "User Guide: https://docs.kepler.gl/docs/keplergl-jupyter\n"
     ]
    },
    {
     "data": {
      "application/vnd.jupyter.widget-view+json": {
       "model_id": "7cd3223a9c04459188a140574c9bb4f0",
       "version_major": 2,
       "version_minor": 0
      },
      "text/plain": [
       "KeplerGl(config={'version': 'v1', 'config': {'visState': {'filters': [], 'layers': [{'id': 'ffw53pr', 'type': …"
      ]
     },
     "metadata": {},
     "output_type": "display_data"
    }
   ],
   "source": [
    "map_4 = KeplerGl(height=800, data={'PLR': df_combined}, config=map_conf)\n",
    "# map_4.add_data(data=df_combined, name='PLR')\n",
    "map_4"
   ]
  },
  {
   "cell_type": "code",
   "execution_count": null,
   "metadata": {},
   "outputs": [],
   "source": []
  },
  {
   "cell_type": "markdown",
   "metadata": {},
   "source": [
    "---\n",
    "H3"
   ]
  },
  {
   "cell_type": "code",
   "execution_count": 50,
   "metadata": {},
   "outputs": [],
   "source": [
    "df_hex = df_combined[['hex', 'delikt']]\n",
    "# df_hex.rename(columns={'hex' : 'geometry'}, inplace=True)"
   ]
  },
  {
   "cell_type": "code",
   "execution_count": 51,
   "metadata": {},
   "outputs": [
    {
     "name": "stdout",
     "output_type": "stream",
     "text": [
      "<class 'pandas.core.frame.DataFrame'>\n",
      "Int64Index: 540 entries, 0 to 539\n",
      "Data columns (total 2 columns):\n",
      " #   Column  Non-Null Count  Dtype \n",
      "---  ------  --------------  ----- \n",
      " 0   hex     540 non-null    object\n",
      " 1   delikt  540 non-null    int64 \n",
      "dtypes: int64(1), object(1)\n",
      "memory usage: 12.7+ KB\n"
     ]
    }
   ],
   "source": [
    "df_hex.info()"
   ]
  },
  {
   "cell_type": "code",
   "execution_count": 52,
   "metadata": {},
   "outputs": [
    {
     "name": "stdout",
     "output_type": "stream",
     "text": [
      "User Guide: https://docs.kepler.gl/docs/keplergl-jupyter\n"
     ]
    }
   ],
   "source": [
    "map_3 = KeplerGl(height=800)\n"
   ]
  },
  {
   "cell_type": "code",
   "execution_count": 53,
   "metadata": {},
   "outputs": [
    {
     "data": {
      "application/vnd.jupyter.widget-view+json": {
       "model_id": "45f2d1c33a8a4cedaaa9b858a0c8ae03",
       "version_major": 2,
       "version_minor": 0
      },
      "text/plain": [
       "KeplerGl(data={'H3': {'index': [0, 1, 2, 3, 4, 5, 6, 7, 8, 9, 10, 11, 12, 13, 14, 15, 16, 17, 18, 19, 20, 21, …"
      ]
     },
     "metadata": {},
     "output_type": "display_data"
    }
   ],
   "source": [
    "map_3.add_data(data=df_hex, name='H3')\n",
    "map_3"
   ]
  },
  {
   "cell_type": "markdown",
   "metadata": {},
   "source": [
    "---\n",
    "lat long"
   ]
  },
  {
   "cell_type": "code",
   "execution_count": null,
   "metadata": {},
   "outputs": [],
   "source": []
  }
 ],
 "metadata": {
  "interpreter": {
   "hash": "017d8e5b3eaa29bac9173051bb6f229a22cc3d0d54f4b0db8ceb6801290d6f70"
  },
  "kernelspec": {
   "display_name": "Python 3.8.5 64-bit ('students': conda)",
   "language": "python",
   "name": "python3"
  },
  "language_info": {
   "codemirror_mode": {
    "name": "ipython",
    "version": 3
   },
   "file_extension": ".py",
   "mimetype": "text/x-python",
   "name": "python",
   "nbconvert_exporter": "python",
   "pygments_lexer": "ipython3",
   "version": "3.8.5"
  },
  "orig_nbformat": 4
 },
 "nbformat": 4,
 "nbformat_minor": 2
}
