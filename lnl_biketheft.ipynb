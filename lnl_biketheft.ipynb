{
 "cells": [
  {
   "cell_type": "markdown",
   "metadata": {},
   "source": [
    "---\n",
    "modules"
   ]
  },
  {
   "cell_type": "code",
   "execution_count": null,
   "metadata": {},
   "outputs": [],
   "source": [
    "import pandas as pd\n",
    "import numpy as np\n",
    "\n",
    "import geopandas as gpd\n",
    "\n",
    "from keplergl import KeplerGl\n",
    "import googlemaps\n",
    "import h3"
   ]
  },
  {
   "cell_type": "markdown",
   "metadata": {},
   "source": [
    "---\n",
    "creating datasets"
   ]
  },
  {
   "cell_type": "markdown",
   "metadata": {},
   "source": [
    "bike theft data  \n",
    "\n",
    "[Website zum Datensatz daten.berlin.de](https://daten.berlin.de/datensaetze/fahrraddiebstahl-berlin)\n",
    "\n",
    "- Lizenz:\n",
    "    - Creative Commons Namensnennung CC-BY License\n",
    "- Kategorie:\n",
    "   - Öffentliche Sicherheit\n",
    "- Geographische Abdeckung: \n",
    "    - Berlin\n",
    "- Geographische Granularität: \n",
    "    - Berlin\n",
    "- Zeitliche Granularität: \n",
    "    - Tag\n",
    "- Veröffentlicht: \n",
    "    - 08.09.2021\n",
    "- Aktualisiert: \n",
    "    - 09.09.2021\n",
    "- Veröffentlichende Stelle: \n",
    "    - Polizei Berlin LKA St 14\n",
    "- E-Mail Kontakt: \n",
    "    - onlineredaktion AT polizei.berlin.de"
   ]
  },
  {
   "cell_type": "code",
   "execution_count": null,
   "metadata": {},
   "outputs": [],
   "source": [
    "# df = pd.read_csv('data/Fahrraddiebstahl.csv') # not running, encoding must be set!\n",
    "df = pd.read_csv('data/Fahrraddiebstahl.csv', encoding='latin-1')\n",
    "df.columns = df.columns.str.lower()\n",
    "df.head(2)"
   ]
  },
  {
   "cell_type": "code",
   "execution_count": null,
   "metadata": {},
   "outputs": [],
   "source": [
    "df['lor_str'] = df['lor'].map(lambda x: (str(x)))\n",
    "df['lor_zf'] = df['lor_str'].apply(lambda x: x.zfill(8)) #lor zero fill\n",
    "df['plr_id'] = df['lor_zf'].map(lambda x: (x))\n",
    "df['bzr_id'] = df['lor_zf'].map(lambda x: (x)[-6:])\n",
    "df['pgr_id'] = df['lor_zf'].map(lambda x: (x)[-4:])\n",
    "\n",
    "df.drop(columns='lor_str', inplace=True)\n",
    "\n",
    "df.columns"
   ]
  },
  {
   "cell_type": "markdown",
   "metadata": {},
   "source": [
    "LOR shapefile to geopandas dataframe\n",
    "\n",
    "_data/LOR_SHP_2021/lor_plr.shp_  \n",
    "_data/LOR_SHP_2021/lor_bzr.shp_  \n",
    "_data/LOR_SHP_2021/lor_pgr.shp_  \n",
    "\n",
    "PLR: 8 digits, most granular  \n",
    "BZR: 6 digits  \n",
    "PGR: 4 digits"
   ]
  },
  {
   "cell_type": "code",
   "execution_count": null,
   "metadata": {},
   "outputs": [],
   "source": [
    "gdf = gpd.GeoDataFrame.from_file('data/LOR_SHP_2021/lor_plr.shp') #.replace({-999: None})\n",
    "gdf.columns = gdf.columns.str.lower()"
   ]
  },
  {
   "cell_type": "code",
   "execution_count": null,
   "metadata": {},
   "outputs": [],
   "source": [
    "#transforms dataframe to new crs - coordinate reference system, here utm to wgs/latlong\n",
    "gdf_wgs = gdf.to_crs({'proj':'longlat', 'ellps':'WGS84', 'datum':'WGS84'})"
   ]
  },
  {
   "cell_type": "code",
   "execution_count": null,
   "metadata": {},
   "outputs": [],
   "source": [
    "# creating centroids of polygons as gpd point wkt\n",
    "gdf_wgs['points'] = gdf_wgs['geometry'].centroid\n",
    "\n",
    "# extracting lat and long from the point geometry\n",
    "gdf_wgs[\"lat\"] = gdf_wgs.points.y\n",
    "gdf_wgs[\"lon\"] = gdf_wgs.points.x\n",
    "\n",
    "\n",
    "# drop point geometry to not confuse kepler (to gdf geometry columns are misleading)\n",
    "gdf_wgs.drop(columns='points', inplace=True)"
   ]
  },
  {
   "cell_type": "code",
   "execution_count": null,
   "metadata": {},
   "outputs": [],
   "source": [
    "gdf_wgs.info()"
   ]
  },
  {
   "cell_type": "markdown",
   "metadata": {},
   "source": [
    "---\n",
    "plotting shapes/centroids in kepler"
   ]
  },
  {
   "cell_type": "code",
   "execution_count": null,
   "metadata": {},
   "outputs": [],
   "source": [
    "# map_1 = KeplerGl(height=800) #create an instance of this class"
   ]
  },
  {
   "cell_type": "code",
   "execution_count": null,
   "metadata": {},
   "outputs": [],
   "source": [
    "# map_1.add_data(data=gdf_wgs, name='LOR')"
   ]
  },
  {
   "cell_type": "code",
   "execution_count": null,
   "metadata": {},
   "outputs": [],
   "source": [
    "# map_1"
   ]
  },
  {
   "cell_type": "markdown",
   "metadata": {},
   "source": [
    "---\n",
    "merging"
   ]
  },
  {
   "cell_type": "code",
   "execution_count": null,
   "metadata": {},
   "outputs": [],
   "source": [
    "df.info()"
   ]
  },
  {
   "cell_type": "code",
   "execution_count": null,
   "metadata": {},
   "outputs": [],
   "source": [
    "gdf_wgs.info()"
   ]
  },
  {
   "cell_type": "code",
   "execution_count": null,
   "metadata": {},
   "outputs": [],
   "source": [
    "df_combined = gdf_wgs.merge(df, on='plr_id')\n",
    "df_combined.info()"
   ]
  },
  {
   "cell_type": "code",
   "execution_count": null,
   "metadata": {},
   "outputs": [],
   "source": [
    "df_combined.dropna(axis=0, inplace=True)\n",
    "df_combined.shape"
   ]
  },
  {
   "cell_type": "code",
   "execution_count": null,
   "metadata": {},
   "outputs": [],
   "source": [
    "type(df_combined.geometry[0])"
   ]
  },
  {
   "cell_type": "markdown",
   "metadata": {},
   "source": [
    "---\n",
    "plotting df_combined\n",
    "\n",
    "39.407 observations: rendering interrupted aftzer 6 minutes  \n",
    "1.000 observations: map not zoomable, loses shapes  \n",
    "\n",
    "so ... creating a grouped dataframe counting the thefts"
   ]
  },
  {
   "cell_type": "code",
   "execution_count": null,
   "metadata": {},
   "outputs": [],
   "source": [
    "df_plr_group = df.groupby(by='plr_id').count().reset_index()\n",
    "df_plr_group = df_plr_group[['plr_id', 'delikt']]\n",
    "df_plr_group.head()"
   ]
  },
  {
   "cell_type": "code",
   "execution_count": null,
   "metadata": {},
   "outputs": [],
   "source": [
    "df_combined = gdf_wgs.merge(df_plr_group, on='plr_id')\n",
    "df_combined.info()"
   ]
  },
  {
   "cell_type": "markdown",
   "metadata": {},
   "source": [
    "adding this leads to whitescreen, wtf?!"
   ]
  },
  {
   "cell_type": "code",
   "execution_count": null,
   "metadata": {},
   "outputs": [],
   "source": [
    "# adding h3 hexbin h3_id\n",
    "# df_combined['hex'] = df_combined.apply(lambda x: h3.geo_to_h3(x.lat, x.lon, resolution = 7), axis = 1)"
   ]
  },
  {
   "cell_type": "code",
   "execution_count": null,
   "metadata": {},
   "outputs": [],
   "source": [
    "df_combined.info()"
   ]
  },
  {
   "cell_type": "code",
   "execution_count": null,
   "metadata": {},
   "outputs": [],
   "source": [
    "map_2 = KeplerGl(height=800)\n"
   ]
  },
  {
   "cell_type": "code",
   "execution_count": null,
   "metadata": {},
   "outputs": [],
   "source": [
    "map_2.add_data(data=df_combined, name='PLR')"
   ]
  },
  {
   "cell_type": "code",
   "execution_count": null,
   "metadata": {},
   "outputs": [],
   "source": [
    "map_2"
   ]
  },
  {
   "cell_type": "code",
   "execution_count": null,
   "metadata": {},
   "outputs": [],
   "source": [
    "import h3\n",
    "import googlemaps"
   ]
  },
  {
   "cell_type": "code",
   "execution_count": null,
   "metadata": {},
   "outputs": [],
   "source": []
  }
 ],
 "metadata": {
  "interpreter": {
   "hash": "017d8e5b3eaa29bac9173051bb6f229a22cc3d0d54f4b0db8ceb6801290d6f70"
  },
  "kernelspec": {
   "display_name": "Python 3.8.5 64-bit ('students': conda)",
   "language": "python",
   "name": "python3"
  },
  "language_info": {
   "codemirror_mode": {
    "name": "ipython",
    "version": 3
   },
   "file_extension": ".py",
   "mimetype": "text/x-python",
   "name": "python",
   "nbconvert_exporter": "python",
   "pygments_lexer": "ipython3",
   "version": "3.8.5"
  },
  "orig_nbformat": 4
 },
 "nbformat": 4,
 "nbformat_minor": 2
}
