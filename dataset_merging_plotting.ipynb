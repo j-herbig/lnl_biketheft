{
 "cells": [
  {
   "cell_type": "code",
   "execution_count": 26,
   "metadata": {},
   "outputs": [],
   "source": [
    "import pandas as pd"
   ]
  },
  {
   "cell_type": "code",
   "execution_count": 27,
   "metadata": {},
   "outputs": [],
   "source": [
    "# df = pd.read_csv('data/Fahrraddiebstahl.csv') # not running, encoding must be set!\n",
    "df = pd.read_csv('data/Fahrraddiebstahl.csv', encoding='latin-1')\n",
    "df.columns = df.columns.str.lower()"
   ]
  },
  {
   "cell_type": "markdown",
   "metadata": {},
   "source": [
    "[Website zum Datensatz daten.berlin.de](https://daten.berlin.de/datensaetze/fahrraddiebstahl-berlin)\n",
    "\n",
    "- Lizenz:\n",
    "    - Creative Commons Namensnennung CC-BY License\n",
    "- Kategorie:\n",
    "   - Öffentliche Sicherheit\n",
    "- Geographische Abdeckung: \n",
    "    - Berlin\n",
    "- Geographische Granularität: \n",
    "    - Berlin\n",
    "- Zeitliche Granularität: \n",
    "    - Tag\n",
    "- Veröffentlicht: \n",
    "    - 08.09.2021\n",
    "- Aktualisiert: \n",
    "    - 09.09.2021\n",
    "- Veröffentlichende Stelle: \n",
    "    - Polizei Berlin LKA St 14\n",
    "- E-Mail Kontakt: \n",
    "    - onlineredaktion AT polizei.berlin.de"
   ]
  },
  {
   "cell_type": "code",
   "execution_count": 28,
   "metadata": {},
   "outputs": [
    {
     "name": "stdout",
     "output_type": "stream",
     "text": [
      "<class 'pandas.core.frame.DataFrame'>\n",
      "RangeIndex: 39407 entries, 0 to 39406\n",
      "Data columns (total 11 columns):\n",
      " #   Column                 Non-Null Count  Dtype \n",
      "---  ------                 --------------  ----- \n",
      " 0   angelegt_am            39407 non-null  object\n",
      " 1   tatzeit_anfang_datum   39407 non-null  object\n",
      " 2   tatzeit_anfang_stunde  39407 non-null  int64 \n",
      " 3   tatzeit_ende_datum     39407 non-null  object\n",
      " 4   tatzeit_ende_stunde    39407 non-null  int64 \n",
      " 5   lor                    39407 non-null  int64 \n",
      " 6   schadenshoehe          39407 non-null  int64 \n",
      " 7   versuch                39407 non-null  object\n",
      " 8   art_des_fahrrads       39407 non-null  object\n",
      " 9   delikt                 39407 non-null  object\n",
      " 10  erfassungsgrund        39407 non-null  object\n",
      "dtypes: int64(4), object(7)\n",
      "memory usage: 3.3+ MB\n"
     ]
    }
   ],
   "source": [
    "df.info()"
   ]
  },
  {
   "cell_type": "code",
   "execution_count": 29,
   "metadata": {},
   "outputs": [
    {
     "data": {
      "text/html": [
       "<div>\n",
       "<style scoped>\n",
       "    .dataframe tbody tr th:only-of-type {\n",
       "        vertical-align: middle;\n",
       "    }\n",
       "\n",
       "    .dataframe tbody tr th {\n",
       "        vertical-align: top;\n",
       "    }\n",
       "\n",
       "    .dataframe thead th {\n",
       "        text-align: right;\n",
       "    }\n",
       "</style>\n",
       "<table border=\"1\" class=\"dataframe\">\n",
       "  <thead>\n",
       "    <tr style=\"text-align: right;\">\n",
       "      <th></th>\n",
       "      <th>angelegt_am</th>\n",
       "      <th>tatzeit_anfang_datum</th>\n",
       "      <th>tatzeit_anfang_stunde</th>\n",
       "      <th>tatzeit_ende_datum</th>\n",
       "      <th>tatzeit_ende_stunde</th>\n",
       "      <th>lor</th>\n",
       "      <th>schadenshoehe</th>\n",
       "      <th>versuch</th>\n",
       "      <th>art_des_fahrrads</th>\n",
       "      <th>delikt</th>\n",
       "      <th>erfassungsgrund</th>\n",
       "    </tr>\n",
       "  </thead>\n",
       "  <tbody>\n",
       "    <tr>\n",
       "      <th>0</th>\n",
       "      <td>14.09.2020</td>\n",
       "      <td>10.09.2020</td>\n",
       "      <td>10</td>\n",
       "      <td>10.09.2020</td>\n",
       "      <td>12</td>\n",
       "      <td>3400723</td>\n",
       "      <td>706</td>\n",
       "      <td>Nein</td>\n",
       "      <td>Damenfahrrad</td>\n",
       "      <td>Fahrraddiebstahl</td>\n",
       "      <td>Sonstiger schwerer Diebstahl von Fahrrädern</td>\n",
       "    </tr>\n",
       "    <tr>\n",
       "      <th>1</th>\n",
       "      <td>29.09.2020</td>\n",
       "      <td>09.09.2020</td>\n",
       "      <td>16</td>\n",
       "      <td>10.09.2020</td>\n",
       "      <td>7</td>\n",
       "      <td>9200716</td>\n",
       "      <td>220</td>\n",
       "      <td>Nein</td>\n",
       "      <td>Damenfahrrad</td>\n",
       "      <td>Fahrraddiebstahl</td>\n",
       "      <td>Sonstiger schwerer Diebstahl von Fahrrädern</td>\n",
       "    </tr>\n",
       "  </tbody>\n",
       "</table>\n",
       "</div>"
      ],
      "text/plain": [
       "  angelegt_am tatzeit_anfang_datum  tatzeit_anfang_stunde tatzeit_ende_datum  \\\n",
       "0  14.09.2020           10.09.2020                     10         10.09.2020   \n",
       "1  29.09.2020           09.09.2020                     16         10.09.2020   \n",
       "\n",
       "   tatzeit_ende_stunde      lor  schadenshoehe versuch art_des_fahrrads  \\\n",
       "0                   12  3400723            706    Nein     Damenfahrrad   \n",
       "1                    7  9200716            220    Nein     Damenfahrrad   \n",
       "\n",
       "             delikt                              erfassungsgrund  \n",
       "0  Fahrraddiebstahl  Sonstiger schwerer Diebstahl von Fahrrädern  \n",
       "1  Fahrraddiebstahl  Sonstiger schwerer Diebstahl von Fahrrädern  "
      ]
     },
     "execution_count": 29,
     "metadata": {},
     "output_type": "execute_result"
    }
   ],
   "source": [
    "df.head(2)"
   ]
  },
  {
   "cell_type": "code",
   "execution_count": 30,
   "metadata": {},
   "outputs": [],
   "source": [
    "# import geopandas as gpd\n",
    "# import fiona\n",
    "\n",
    "# gpd.io.file.fiona.drvsupport.supported_drivers['KML'] = 'rw'\n",
    "# df2 = gpd.read_file('data/LOR_KMZ_2019/Bezirksregion_EPSG_4326.kmz', driver='KML')"
   ]
  },
  {
   "cell_type": "code",
   "execution_count": 31,
   "metadata": {},
   "outputs": [
    {
     "data": {
      "text/plain": [
       "{'properties': OrderedDict([('PLR_ID', 'str:254'), ('PLR_NAME', 'str:254')]),\n",
       " 'geometry': 'Polygon'}"
      ]
     },
     "execution_count": 31,
     "metadata": {},
     "output_type": "execute_result"
    }
   ],
   "source": [
    "import fiona\n",
    "shape_plr = fiona.open('data/LOR_SHP_2021/lor_plr.shp')\n",
    "shape_bzr = fiona.open('data/LOR_SHP_2021/lor_bzr.shp')\n",
    "shape_pgr = fiona.open('data/LOR_SHP_2021/lor_pgr.shp')\n",
    "shape_plr.schema"
   ]
  },
  {
   "cell_type": "markdown",
   "metadata": {},
   "source": [
    "### digits\n",
    "PLR 8 most granular  \n",
    "BZR 6  \n",
    "PGR 4"
   ]
  },
  {
   "cell_type": "code",
   "execution_count": 32,
   "metadata": {},
   "outputs": [
    {
     "data": {
      "text/plain": [
       "fiona.collection.Collection"
      ]
     },
     "execution_count": 32,
     "metadata": {},
     "output_type": "execute_result"
    }
   ],
   "source": [
    "type(shape)"
   ]
  },
  {
   "cell_type": "code",
   "execution_count": 33,
   "metadata": {},
   "outputs": [],
   "source": [
    "import geopandas as gdp"
   ]
  },
  {
   "cell_type": "code",
   "execution_count": 34,
   "metadata": {},
   "outputs": [],
   "source": [
    "# Build the GeoDataFrame from Fiona Collection\n",
    "gdf = gdp.GeoDataFrame.from_features([feature for feature in shape_plr])#, crs=crs)\n",
    "# Get the order of the fields in the Fiona Collection; add geometry to the end\n",
    "columns = list(shape.meta[\"schema\"][\"properties\"]) + [\"geometry\"]\n",
    "# Re-order columns in the correct order\n",
    "gdf = gdf[columns]"
   ]
  },
  {
   "cell_type": "code",
   "execution_count": 35,
   "metadata": {},
   "outputs": [
    {
     "data": {
      "text/plain": [
       "geopandas.geodataframe.GeoDataFrame"
      ]
     },
     "execution_count": 35,
     "metadata": {},
     "output_type": "execute_result"
    }
   ],
   "source": [
    "type(gdf)"
   ]
  },
  {
   "cell_type": "code",
   "execution_count": 36,
   "metadata": {},
   "outputs": [
    {
     "data": {
      "image/png": "[encoded data removed]",
      "text/plain": [
       "<Figure size 432x288 with 1 Axes>"
      ]
     },
     "metadata": {
      "needs_background": "light"
     },
     "output_type": "display_data"
    }
   ],
   "source": [
    "gdf.plot();"
   ]
  },
  {
   "cell_type": "code",
   "execution_count": 37,
   "metadata": {},
   "outputs": [
    {
     "data": {
      "text/html": [
       "<div>\n",
       "<style scoped>\n",
       "    .dataframe tbody tr th:only-of-type {\n",
       "        vertical-align: middle;\n",
       "    }\n",
       "\n",
       "    .dataframe tbody tr th {\n",
       "        vertical-align: top;\n",
       "    }\n",
       "\n",
       "    .dataframe thead th {\n",
       "        text-align: right;\n",
       "    }\n",
       "</style>\n",
       "<table border=\"1\" class=\"dataframe\">\n",
       "  <thead>\n",
       "    <tr style=\"text-align: right;\">\n",
       "      <th></th>\n",
       "      <th>PLR_ID</th>\n",
       "      <th>PLR_NAME</th>\n",
       "      <th>geometry</th>\n",
       "    </tr>\n",
       "  </thead>\n",
       "  <tbody>\n",
       "    <tr>\n",
       "      <th>0</th>\n",
       "      <td>08401245</td>\n",
       "      <td>Frauenviertel</td>\n",
       "      <td>POLYGON ((398530.482 5807357.873, 398569.146 5...</td>\n",
       "    </tr>\n",
       "    <tr>\n",
       "      <th>1</th>\n",
       "      <td>08401244</td>\n",
       "      <td>Waßmannsdorfer Chaussee</td>\n",
       "      <td>POLYGON ((397994.196 5806511.717, 397993.161 5...</td>\n",
       "    </tr>\n",
       "    <tr>\n",
       "      <th>2</th>\n",
       "      <td>08401246</td>\n",
       "      <td>Waltersdorfer Chaussee Ost</td>\n",
       "      <td>POLYGON ((398909.474 5806709.670, 398907.398 5...</td>\n",
       "    </tr>\n",
       "    <tr>\n",
       "      <th>3</th>\n",
       "      <td>08401243</td>\n",
       "      <td>Alt-Rudow</td>\n",
       "      <td>POLYGON ((399260.777 5809071.777, 399251.106 5...</td>\n",
       "    </tr>\n",
       "    <tr>\n",
       "      <th>4</th>\n",
       "      <td>08401242</td>\n",
       "      <td>Zittauer Straße</td>\n",
       "      <td>POLYGON ((397378.822 5808471.734, 397377.582 5...</td>\n",
       "    </tr>\n",
       "    <tr>\n",
       "      <th>...</th>\n",
       "      <td>...</td>\n",
       "      <td>...</td>\n",
       "      <td>...</td>\n",
       "    </tr>\n",
       "    <tr>\n",
       "      <th>537</th>\n",
       "      <td>06200314</td>\n",
       "      <td>Kaiser-Wilhelm-Straße</td>\n",
       "      <td>POLYGON ((387137.770 5810914.331, 387134.022 5...</td>\n",
       "    </tr>\n",
       "    <tr>\n",
       "      <th>538</th>\n",
       "      <td>06200421</td>\n",
       "      <td>Königsberger Straße</td>\n",
       "      <td>POLYGON ((386158.015 5809953.079, 386138.149 5...</td>\n",
       "    </tr>\n",
       "    <tr>\n",
       "      <th>539</th>\n",
       "      <td>06200422</td>\n",
       "      <td>Oberhofer Platz</td>\n",
       "      <td>POLYGON ((386577.591 5808801.810, 386554.090 5...</td>\n",
       "    </tr>\n",
       "    <tr>\n",
       "      <th>540</th>\n",
       "      <td>12100205</td>\n",
       "      <td>Teichstraße</td>\n",
       "      <td>POLYGON ((388784.556 5826118.378, 388783.944 5...</td>\n",
       "    </tr>\n",
       "    <tr>\n",
       "      <th>541</th>\n",
       "      <td>12100206</td>\n",
       "      <td>Humboldtstraße</td>\n",
       "      <td>POLYGON ((388011.067 5826640.665, 388011.918 5...</td>\n",
       "    </tr>\n",
       "  </tbody>\n",
       "</table>\n",
       "<p>542 rows × 3 columns</p>\n",
       "</div>"
      ],
      "text/plain": [
       "       PLR_ID                    PLR_NAME  \\\n",
       "0    08401245               Frauenviertel   \n",
       "1    08401244     Waßmannsdorfer Chaussee   \n",
       "2    08401246  Waltersdorfer Chaussee Ost   \n",
       "3    08401243                   Alt-Rudow   \n",
       "4    08401242             Zittauer Straße   \n",
       "..        ...                         ...   \n",
       "537  06200314       Kaiser-Wilhelm-Straße   \n",
       "538  06200421         Königsberger Straße   \n",
       "539  06200422             Oberhofer Platz   \n",
       "540  12100205                 Teichstraße   \n",
       "541  12100206              Humboldtstraße   \n",
       "\n",
       "                                              geometry  \n",
       "0    POLYGON ((398530.482 5807357.873, 398569.146 5...  \n",
       "1    POLYGON ((397994.196 5806511.717, 397993.161 5...  \n",
       "2    POLYGON ((398909.474 5806709.670, 398907.398 5...  \n",
       "3    POLYGON ((399260.777 5809071.777, 399251.106 5...  \n",
       "4    POLYGON ((397378.822 5808471.734, 397377.582 5...  \n",
       "..                                                 ...  \n",
       "537  POLYGON ((387137.770 5810914.331, 387134.022 5...  \n",
       "538  POLYGON ((386158.015 5809953.079, 386138.149 5...  \n",
       "539  POLYGON ((386577.591 5808801.810, 386554.090 5...  \n",
       "540  POLYGON ((388784.556 5826118.378, 388783.944 5...  \n",
       "541  POLYGON ((388011.067 5826640.665, 388011.918 5...  \n",
       "\n",
       "[542 rows x 3 columns]"
      ]
     },
     "execution_count": 37,
     "metadata": {},
     "output_type": "execute_result"
    }
   ],
   "source": [
    "gdf"
   ]
  },
  {
   "cell_type": "code",
   "execution_count": 38,
   "metadata": {},
   "outputs": [],
   "source": [
    "import pandas as pd\n",
    "# df = pd.read_csv('data/Fahrraddiebstahl.csv') # not running, encoding must be set!\n",
    "df = pd.read_csv('data/Fahrraddiebstahl.csv', encoding='latin-1')\n",
    "df.columns = df.columns.str.lower()"
   ]
  },
  {
   "cell_type": "code",
   "execution_count": 39,
   "metadata": {},
   "outputs": [
    {
     "data": {
      "text/html": [
       "<div>\n",
       "<style scoped>\n",
       "    .dataframe tbody tr th:only-of-type {\n",
       "        vertical-align: middle;\n",
       "    }\n",
       "\n",
       "    .dataframe tbody tr th {\n",
       "        vertical-align: top;\n",
       "    }\n",
       "\n",
       "    .dataframe thead th {\n",
       "        text-align: right;\n",
       "    }\n",
       "</style>\n",
       "<table border=\"1\" class=\"dataframe\">\n",
       "  <thead>\n",
       "    <tr style=\"text-align: right;\">\n",
       "      <th></th>\n",
       "      <th>angelegt_am</th>\n",
       "      <th>tatzeit_anfang_datum</th>\n",
       "      <th>tatzeit_anfang_stunde</th>\n",
       "      <th>tatzeit_ende_datum</th>\n",
       "      <th>tatzeit_ende_stunde</th>\n",
       "      <th>lor</th>\n",
       "      <th>schadenshoehe</th>\n",
       "      <th>versuch</th>\n",
       "      <th>art_des_fahrrads</th>\n",
       "      <th>delikt</th>\n",
       "      <th>erfassungsgrund</th>\n",
       "    </tr>\n",
       "  </thead>\n",
       "  <tbody>\n",
       "    <tr>\n",
       "      <th>0</th>\n",
       "      <td>14.09.2020</td>\n",
       "      <td>10.09.2020</td>\n",
       "      <td>10</td>\n",
       "      <td>10.09.2020</td>\n",
       "      <td>12</td>\n",
       "      <td>3400723</td>\n",
       "      <td>706</td>\n",
       "      <td>Nein</td>\n",
       "      <td>Damenfahrrad</td>\n",
       "      <td>Fahrraddiebstahl</td>\n",
       "      <td>Sonstiger schwerer Diebstahl von Fahrrädern</td>\n",
       "    </tr>\n",
       "  </tbody>\n",
       "</table>\n",
       "</div>"
      ],
      "text/plain": [
       "  angelegt_am tatzeit_anfang_datum  tatzeit_anfang_stunde tatzeit_ende_datum  \\\n",
       "0  14.09.2020           10.09.2020                     10         10.09.2020   \n",
       "\n",
       "   tatzeit_ende_stunde      lor  schadenshoehe versuch art_des_fahrrads  \\\n",
       "0                   12  3400723            706    Nein     Damenfahrrad   \n",
       "\n",
       "             delikt                              erfassungsgrund  \n",
       "0  Fahrraddiebstahl  Sonstiger schwerer Diebstahl von Fahrrädern  "
      ]
     },
     "execution_count": 39,
     "metadata": {},
     "output_type": "execute_result"
    }
   ],
   "source": [
    "df.head(1)"
   ]
  },
  {
   "cell_type": "code",
   "execution_count": 40,
   "metadata": {},
   "outputs": [
    {
     "data": {
      "text/html": [
       "<div>\n",
       "<style scoped>\n",
       "    .dataframe tbody tr th:only-of-type {\n",
       "        vertical-align: middle;\n",
       "    }\n",
       "\n",
       "    .dataframe tbody tr th {\n",
       "        vertical-align: top;\n",
       "    }\n",
       "\n",
       "    .dataframe thead th {\n",
       "        text-align: right;\n",
       "    }\n",
       "</style>\n",
       "<table border=\"1\" class=\"dataframe\">\n",
       "  <thead>\n",
       "    <tr style=\"text-align: right;\">\n",
       "      <th></th>\n",
       "      <th>PLR_ID</th>\n",
       "      <th>PLR_NAME</th>\n",
       "      <th>geometry</th>\n",
       "    </tr>\n",
       "  </thead>\n",
       "  <tbody>\n",
       "    <tr>\n",
       "      <th>0</th>\n",
       "      <td>08401245</td>\n",
       "      <td>Frauenviertel</td>\n",
       "      <td>POLYGON ((398530.482 5807357.873, 398569.146 5...</td>\n",
       "    </tr>\n",
       "  </tbody>\n",
       "</table>\n",
       "</div>"
      ],
      "text/plain": [
       "     PLR_ID       PLR_NAME                                           geometry\n",
       "0  08401245  Frauenviertel  POLYGON ((398530.482 5807357.873, 398569.146 5..."
      ]
     },
     "execution_count": 40,
     "metadata": {},
     "output_type": "execute_result"
    }
   ],
   "source": [
    "gdf.head(1)"
   ]
  },
  {
   "cell_type": "code",
   "execution_count": 41,
   "metadata": {},
   "outputs": [],
   "source": [
    "df['lor_str'] = df['lor'].map(lambda x: (str(x)))\n",
    "df['lor_zf'] = df['lor_str'].apply(lambda x: x.zfill(8))\n",
    "df['plr_id'] = df['lor_zf'].map(lambda x: (x))\n",
    "df['bzr_id'] = df['lor_zf'].map(lambda x: (x)[-6:])\n",
    "df['pgr_id'] = df['lor_zf'].map(lambda x: (x)[-4:])"
   ]
  },
  {
   "cell_type": "code",
   "execution_count": 42,
   "metadata": {},
   "outputs": [
    {
     "data": {
      "text/plain": [
       "(39407, 16)"
      ]
     },
     "execution_count": 42,
     "metadata": {},
     "output_type": "execute_result"
    }
   ],
   "source": [
    "df.shape"
   ]
  },
  {
   "cell_type": "markdown",
   "metadata": {},
   "source": [
    "df.shape initially: (39407, 19)"
   ]
  },
  {
   "cell_type": "code",
   "execution_count": 43,
   "metadata": {},
   "outputs": [
    {
     "data": {
      "text/html": [
       "<div>\n",
       "<style scoped>\n",
       "    .dataframe tbody tr th:only-of-type {\n",
       "        vertical-align: middle;\n",
       "    }\n",
       "\n",
       "    .dataframe tbody tr th {\n",
       "        vertical-align: top;\n",
       "    }\n",
       "\n",
       "    .dataframe thead th {\n",
       "        text-align: right;\n",
       "    }\n",
       "</style>\n",
       "<table border=\"1\" class=\"dataframe\">\n",
       "  <thead>\n",
       "    <tr style=\"text-align: right;\">\n",
       "      <th></th>\n",
       "      <th>angelegt_am</th>\n",
       "      <th>tatzeit_anfang_datum</th>\n",
       "      <th>tatzeit_anfang_stunde</th>\n",
       "      <th>tatzeit_ende_datum</th>\n",
       "      <th>tatzeit_ende_stunde</th>\n",
       "      <th>lor</th>\n",
       "      <th>schadenshoehe</th>\n",
       "      <th>versuch</th>\n",
       "      <th>art_des_fahrrads</th>\n",
       "      <th>delikt</th>\n",
       "      <th>erfassungsgrund</th>\n",
       "      <th>lor_str</th>\n",
       "      <th>lor_zf</th>\n",
       "      <th>plr_id</th>\n",
       "      <th>bzr_id</th>\n",
       "      <th>pgr_id</th>\n",
       "    </tr>\n",
       "  </thead>\n",
       "  <tbody>\n",
       "    <tr>\n",
       "      <th>0</th>\n",
       "      <td>14.09.2020</td>\n",
       "      <td>10.09.2020</td>\n",
       "      <td>10</td>\n",
       "      <td>10.09.2020</td>\n",
       "      <td>12</td>\n",
       "      <td>3400723</td>\n",
       "      <td>706</td>\n",
       "      <td>Nein</td>\n",
       "      <td>Damenfahrrad</td>\n",
       "      <td>Fahrraddiebstahl</td>\n",
       "      <td>Sonstiger schwerer Diebstahl von Fahrrädern</td>\n",
       "      <td>3400723</td>\n",
       "      <td>03400723</td>\n",
       "      <td>03400723</td>\n",
       "      <td>400723</td>\n",
       "      <td>0723</td>\n",
       "    </tr>\n",
       "    <tr>\n",
       "      <th>1</th>\n",
       "      <td>29.09.2020</td>\n",
       "      <td>09.09.2020</td>\n",
       "      <td>16</td>\n",
       "      <td>10.09.2020</td>\n",
       "      <td>7</td>\n",
       "      <td>9200716</td>\n",
       "      <td>220</td>\n",
       "      <td>Nein</td>\n",
       "      <td>Damenfahrrad</td>\n",
       "      <td>Fahrraddiebstahl</td>\n",
       "      <td>Sonstiger schwerer Diebstahl von Fahrrädern</td>\n",
       "      <td>9200716</td>\n",
       "      <td>09200716</td>\n",
       "      <td>09200716</td>\n",
       "      <td>200716</td>\n",
       "      <td>0716</td>\n",
       "    </tr>\n",
       "  </tbody>\n",
       "</table>\n",
       "</div>"
      ],
      "text/plain": [
       "  angelegt_am tatzeit_anfang_datum  tatzeit_anfang_stunde tatzeit_ende_datum  \\\n",
       "0  14.09.2020           10.09.2020                     10         10.09.2020   \n",
       "1  29.09.2020           09.09.2020                     16         10.09.2020   \n",
       "\n",
       "   tatzeit_ende_stunde      lor  schadenshoehe versuch art_des_fahrrads  \\\n",
       "0                   12  3400723            706    Nein     Damenfahrrad   \n",
       "1                    7  9200716            220    Nein     Damenfahrrad   \n",
       "\n",
       "             delikt                              erfassungsgrund  lor_str  \\\n",
       "0  Fahrraddiebstahl  Sonstiger schwerer Diebstahl von Fahrrädern  3400723   \n",
       "1  Fahrraddiebstahl  Sonstiger schwerer Diebstahl von Fahrrädern  9200716   \n",
       "\n",
       "     lor_zf    plr_id  bzr_id pgr_id  \n",
       "0  03400723  03400723  400723   0723  \n",
       "1  09200716  09200716  200716   0716  "
      ]
     },
     "execution_count": 43,
     "metadata": {},
     "output_type": "execute_result"
    }
   ],
   "source": [
    "df.head(2)"
   ]
  },
  {
   "cell_type": "code",
   "execution_count": 44,
   "metadata": {},
   "outputs": [
    {
     "data": {
      "text/html": [
       "<div>\n",
       "<style scoped>\n",
       "    .dataframe tbody tr th:only-of-type {\n",
       "        vertical-align: middle;\n",
       "    }\n",
       "\n",
       "    .dataframe tbody tr th {\n",
       "        vertical-align: top;\n",
       "    }\n",
       "\n",
       "    .dataframe thead th {\n",
       "        text-align: right;\n",
       "    }\n",
       "</style>\n",
       "<table border=\"1\" class=\"dataframe\">\n",
       "  <thead>\n",
       "    <tr style=\"text-align: right;\">\n",
       "      <th></th>\n",
       "      <th>PLR_ID</th>\n",
       "      <th>PLR_NAME</th>\n",
       "      <th>geometry</th>\n",
       "    </tr>\n",
       "  </thead>\n",
       "  <tbody>\n",
       "    <tr>\n",
       "      <th>0</th>\n",
       "      <td>08401245</td>\n",
       "      <td>Frauenviertel</td>\n",
       "      <td>POLYGON ((398530.482 5807357.873, 398569.146 5...</td>\n",
       "    </tr>\n",
       "    <tr>\n",
       "      <th>1</th>\n",
       "      <td>08401244</td>\n",
       "      <td>Waßmannsdorfer Chaussee</td>\n",
       "      <td>POLYGON ((397994.196 5806511.717, 397993.161 5...</td>\n",
       "    </tr>\n",
       "  </tbody>\n",
       "</table>\n",
       "</div>"
      ],
      "text/plain": [
       "     PLR_ID                 PLR_NAME  \\\n",
       "0  08401245            Frauenviertel   \n",
       "1  08401244  Waßmannsdorfer Chaussee   \n",
       "\n",
       "                                            geometry  \n",
       "0  POLYGON ((398530.482 5807357.873, 398569.146 5...  \n",
       "1  POLYGON ((397994.196 5806511.717, 397993.161 5...  "
      ]
     },
     "execution_count": 44,
     "metadata": {},
     "output_type": "execute_result"
    }
   ],
   "source": [
    "gdf.head(2)"
   ]
  },
  {
   "cell_type": "code",
   "execution_count": 45,
   "metadata": {},
   "outputs": [
    {
     "data": {
      "text/html": [
       "<div>\n",
       "<style scoped>\n",
       "    .dataframe tbody tr th:only-of-type {\n",
       "        vertical-align: middle;\n",
       "    }\n",
       "\n",
       "    .dataframe tbody tr th {\n",
       "        vertical-align: top;\n",
       "    }\n",
       "\n",
       "    .dataframe thead th {\n",
       "        text-align: right;\n",
       "    }\n",
       "</style>\n",
       "<table border=\"1\" class=\"dataframe\">\n",
       "  <thead>\n",
       "    <tr style=\"text-align: right;\">\n",
       "      <th></th>\n",
       "      <th>plr_id</th>\n",
       "      <th>plr_name</th>\n",
       "      <th>geometry</th>\n",
       "    </tr>\n",
       "  </thead>\n",
       "  <tbody>\n",
       "    <tr>\n",
       "      <th>0</th>\n",
       "      <td>08401245</td>\n",
       "      <td>Frauenviertel</td>\n",
       "      <td>POLYGON ((398530.482 5807357.873, 398569.146 5...</td>\n",
       "    </tr>\n",
       "    <tr>\n",
       "      <th>1</th>\n",
       "      <td>08401244</td>\n",
       "      <td>Waßmannsdorfer Chaussee</td>\n",
       "      <td>POLYGON ((397994.196 5806511.717, 397993.161 5...</td>\n",
       "    </tr>\n",
       "  </tbody>\n",
       "</table>\n",
       "</div>"
      ],
      "text/plain": [
       "     plr_id                 plr_name  \\\n",
       "0  08401245            Frauenviertel   \n",
       "1  08401244  Waßmannsdorfer Chaussee   \n",
       "\n",
       "                                            geometry  \n",
       "0  POLYGON ((398530.482 5807357.873, 398569.146 5...  \n",
       "1  POLYGON ((397994.196 5806511.717, 397993.161 5...  "
      ]
     },
     "execution_count": 45,
     "metadata": {},
     "output_type": "execute_result"
    }
   ],
   "source": [
    "gdf.columns = gdf.columns.str.lower()\n",
    "gdf.head(2)"
   ]
  },
  {
   "cell_type": "code",
   "execution_count": 46,
   "metadata": {},
   "outputs": [
    {
     "data": {
      "text/html": [
       "<div>\n",
       "<style scoped>\n",
       "    .dataframe tbody tr th:only-of-type {\n",
       "        vertical-align: middle;\n",
       "    }\n",
       "\n",
       "    .dataframe tbody tr th {\n",
       "        vertical-align: top;\n",
       "    }\n",
       "\n",
       "    .dataframe thead th {\n",
       "        text-align: right;\n",
       "    }\n",
       "</style>\n",
       "<table border=\"1\" class=\"dataframe\">\n",
       "  <thead>\n",
       "    <tr style=\"text-align: right;\">\n",
       "      <th></th>\n",
       "      <th>plr_id</th>\n",
       "      <th>plr_name</th>\n",
       "      <th>geometry</th>\n",
       "      <th>angelegt_am</th>\n",
       "      <th>tatzeit_anfang_datum</th>\n",
       "      <th>tatzeit_anfang_stunde</th>\n",
       "      <th>tatzeit_ende_datum</th>\n",
       "      <th>tatzeit_ende_stunde</th>\n",
       "      <th>lor</th>\n",
       "      <th>schadenshoehe</th>\n",
       "      <th>versuch</th>\n",
       "      <th>art_des_fahrrads</th>\n",
       "      <th>delikt</th>\n",
       "      <th>erfassungsgrund</th>\n",
       "      <th>lor_str</th>\n",
       "      <th>lor_zf</th>\n",
       "      <th>bzr_id</th>\n",
       "      <th>pgr_id</th>\n",
       "    </tr>\n",
       "  </thead>\n",
       "  <tbody>\n",
       "    <tr>\n",
       "      <th>0</th>\n",
       "      <td>08401245</td>\n",
       "      <td>Frauenviertel</td>\n",
       "      <td>POLYGON ((398530.482 5807357.873, 398569.146 5...</td>\n",
       "      <td>11.09.2020</td>\n",
       "      <td>04.09.2020</td>\n",
       "      <td>10</td>\n",
       "      <td>04.09.2020</td>\n",
       "      <td>10</td>\n",
       "      <td>8401245</td>\n",
       "      <td>305</td>\n",
       "      <td>Nein</td>\n",
       "      <td>Damenfahrrad</td>\n",
       "      <td>Fahrraddiebstahl</td>\n",
       "      <td>Sonstiger schwerer Diebstahl von Fahrrädern</td>\n",
       "      <td>8401245</td>\n",
       "      <td>08401245</td>\n",
       "      <td>401245</td>\n",
       "      <td>1245</td>\n",
       "    </tr>\n",
       "    <tr>\n",
       "      <th>1</th>\n",
       "      <td>08401245</td>\n",
       "      <td>Frauenviertel</td>\n",
       "      <td>POLYGON ((398530.482 5807357.873, 398569.146 5...</td>\n",
       "      <td>09.09.2021</td>\n",
       "      <td>07.09.2021</td>\n",
       "      <td>21</td>\n",
       "      <td>08.09.2021</td>\n",
       "      <td>6</td>\n",
       "      <td>8401245</td>\n",
       "      <td>1800</td>\n",
       "      <td>Nein</td>\n",
       "      <td>Fahrrad</td>\n",
       "      <td>Fahrraddiebstahl</td>\n",
       "      <td>Einfacher Diebstahl von Fahrrädern</td>\n",
       "      <td>8401245</td>\n",
       "      <td>08401245</td>\n",
       "      <td>401245</td>\n",
       "      <td>1245</td>\n",
       "    </tr>\n",
       "    <tr>\n",
       "      <th>2</th>\n",
       "      <td>08401245</td>\n",
       "      <td>Frauenviertel</td>\n",
       "      <td>POLYGON ((398530.482 5807357.873, 398569.146 5...</td>\n",
       "      <td>12.10.2021</td>\n",
       "      <td>10.10.2021</td>\n",
       "      <td>16</td>\n",
       "      <td>11.10.2021</td>\n",
       "      <td>15</td>\n",
       "      <td>8401245</td>\n",
       "      <td>2532</td>\n",
       "      <td>Nein</td>\n",
       "      <td>Mountainbike</td>\n",
       "      <td>Fahrraddiebstahl</td>\n",
       "      <td>Sonstiger schwerer Diebstahl von Fahrrädern</td>\n",
       "      <td>8401245</td>\n",
       "      <td>08401245</td>\n",
       "      <td>401245</td>\n",
       "      <td>1245</td>\n",
       "    </tr>\n",
       "    <tr>\n",
       "      <th>3</th>\n",
       "      <td>08401245</td>\n",
       "      <td>Frauenviertel</td>\n",
       "      <td>POLYGON ((398530.482 5807357.873, 398569.146 5...</td>\n",
       "      <td>17.06.2021</td>\n",
       "      <td>08.06.2021</td>\n",
       "      <td>16</td>\n",
       "      <td>09.06.2021</td>\n",
       "      <td>6</td>\n",
       "      <td>8401245</td>\n",
       "      <td>589</td>\n",
       "      <td>Nein</td>\n",
       "      <td>Herrenfahrrad</td>\n",
       "      <td>Keller- und Bodeneinbruch</td>\n",
       "      <td>Sonstiger schwerer Diebstahl in/aus Keller/Bod...</td>\n",
       "      <td>8401245</td>\n",
       "      <td>08401245</td>\n",
       "      <td>401245</td>\n",
       "      <td>1245</td>\n",
       "    </tr>\n",
       "    <tr>\n",
       "      <th>4</th>\n",
       "      <td>08401245</td>\n",
       "      <td>Frauenviertel</td>\n",
       "      <td>POLYGON ((398530.482 5807357.873, 398569.146 5...</td>\n",
       "      <td>17.09.2021</td>\n",
       "      <td>16.09.2021</td>\n",
       "      <td>23</td>\n",
       "      <td>17.09.2021</td>\n",
       "      <td>3</td>\n",
       "      <td>8401245</td>\n",
       "      <td>449</td>\n",
       "      <td>Nein</td>\n",
       "      <td>Herrenfahrrad</td>\n",
       "      <td>Fahrraddiebstahl</td>\n",
       "      <td>Sonstiger schwerer Diebstahl von Fahrrädern</td>\n",
       "      <td>8401245</td>\n",
       "      <td>08401245</td>\n",
       "      <td>401245</td>\n",
       "      <td>1245</td>\n",
       "    </tr>\n",
       "    <tr>\n",
       "      <th>...</th>\n",
       "      <td>...</td>\n",
       "      <td>...</td>\n",
       "      <td>...</td>\n",
       "      <td>...</td>\n",
       "      <td>...</td>\n",
       "      <td>...</td>\n",
       "      <td>...</td>\n",
       "      <td>...</td>\n",
       "      <td>...</td>\n",
       "      <td>...</td>\n",
       "      <td>...</td>\n",
       "      <td>...</td>\n",
       "      <td>...</td>\n",
       "      <td>...</td>\n",
       "      <td>...</td>\n",
       "      <td>...</td>\n",
       "      <td>...</td>\n",
       "      <td>...</td>\n",
       "    </tr>\n",
       "    <tr>\n",
       "      <th>39402</th>\n",
       "      <td>12100206</td>\n",
       "      <td>Humboldtstraße</td>\n",
       "      <td>POLYGON ((388011.067 5826640.665, 388011.918 5...</td>\n",
       "      <td>01.11.2021</td>\n",
       "      <td>31.10.2021</td>\n",
       "      <td>17</td>\n",
       "      <td>01.11.2021</td>\n",
       "      <td>7</td>\n",
       "      <td>12100206</td>\n",
       "      <td>350</td>\n",
       "      <td>Nein</td>\n",
       "      <td>Damenfahrrad</td>\n",
       "      <td>Fahrraddiebstahl</td>\n",
       "      <td>Sonstiger schwerer Diebstahl von Fahrrädern</td>\n",
       "      <td>12100206</td>\n",
       "      <td>12100206</td>\n",
       "      <td>100206</td>\n",
       "      <td>0206</td>\n",
       "    </tr>\n",
       "    <tr>\n",
       "      <th>39403</th>\n",
       "      <td>12100206</td>\n",
       "      <td>Humboldtstraße</td>\n",
       "      <td>POLYGON ((388011.067 5826640.665, 388011.918 5...</td>\n",
       "      <td>15.03.2020</td>\n",
       "      <td>12.03.2020</td>\n",
       "      <td>17</td>\n",
       "      <td>13.03.2020</td>\n",
       "      <td>15</td>\n",
       "      <td>12100206</td>\n",
       "      <td>3990</td>\n",
       "      <td>Nein</td>\n",
       "      <td>Fahrrad</td>\n",
       "      <td>Fahrraddiebstahl</td>\n",
       "      <td>Sonstiger schwerer Diebstahl von Fahrrädern</td>\n",
       "      <td>12100206</td>\n",
       "      <td>12100206</td>\n",
       "      <td>100206</td>\n",
       "      <td>0206</td>\n",
       "    </tr>\n",
       "    <tr>\n",
       "      <th>39404</th>\n",
       "      <td>12100206</td>\n",
       "      <td>Humboldtstraße</td>\n",
       "      <td>POLYGON ((388011.067 5826640.665, 388011.918 5...</td>\n",
       "      <td>20.04.2020</td>\n",
       "      <td>17.04.2020</td>\n",
       "      <td>23</td>\n",
       "      <td>18.04.2020</td>\n",
       "      <td>8</td>\n",
       "      <td>12100206</td>\n",
       "      <td>579</td>\n",
       "      <td>Nein</td>\n",
       "      <td>Herrenfahrrad</td>\n",
       "      <td>Fahrraddiebstahl</td>\n",
       "      <td>Sonstiger schwerer Diebstahl von Fahrrädern</td>\n",
       "      <td>12100206</td>\n",
       "      <td>12100206</td>\n",
       "      <td>100206</td>\n",
       "      <td>0206</td>\n",
       "    </tr>\n",
       "    <tr>\n",
       "      <th>39405</th>\n",
       "      <td>12100206</td>\n",
       "      <td>Humboldtstraße</td>\n",
       "      <td>POLYGON ((388011.067 5826640.665, 388011.918 5...</td>\n",
       "      <td>12.07.2021</td>\n",
       "      <td>10.07.2021</td>\n",
       "      <td>20</td>\n",
       "      <td>12.07.2021</td>\n",
       "      <td>10</td>\n",
       "      <td>12100206</td>\n",
       "      <td>850</td>\n",
       "      <td>Nein</td>\n",
       "      <td>Rennrad</td>\n",
       "      <td>Fahrraddiebstahl</td>\n",
       "      <td>Sonstiger schwerer Diebstahl von Fahrrädern</td>\n",
       "      <td>12100206</td>\n",
       "      <td>12100206</td>\n",
       "      <td>100206</td>\n",
       "      <td>0206</td>\n",
       "    </tr>\n",
       "    <tr>\n",
       "      <th>39406</th>\n",
       "      <td>12100206</td>\n",
       "      <td>Humboldtstraße</td>\n",
       "      <td>POLYGON ((388011.067 5826640.665, 388011.918 5...</td>\n",
       "      <td>04.08.2021</td>\n",
       "      <td>28.07.2021</td>\n",
       "      <td>19</td>\n",
       "      <td>29.07.2021</td>\n",
       "      <td>8</td>\n",
       "      <td>12100206</td>\n",
       "      <td>200</td>\n",
       "      <td>Nein</td>\n",
       "      <td>Kinderfahrrad</td>\n",
       "      <td>Fahrraddiebstahl</td>\n",
       "      <td>Sonstiger schwerer Diebstahl von Fahrrädern</td>\n",
       "      <td>12100206</td>\n",
       "      <td>12100206</td>\n",
       "      <td>100206</td>\n",
       "      <td>0206</td>\n",
       "    </tr>\n",
       "  </tbody>\n",
       "</table>\n",
       "<p>39407 rows × 18 columns</p>\n",
       "</div>"
      ],
      "text/plain": [
       "         plr_id        plr_name  \\\n",
       "0      08401245   Frauenviertel   \n",
       "1      08401245   Frauenviertel   \n",
       "2      08401245   Frauenviertel   \n",
       "3      08401245   Frauenviertel   \n",
       "4      08401245   Frauenviertel   \n",
       "...         ...             ...   \n",
       "39402  12100206  Humboldtstraße   \n",
       "39403  12100206  Humboldtstraße   \n",
       "39404  12100206  Humboldtstraße   \n",
       "39405  12100206  Humboldtstraße   \n",
       "39406  12100206  Humboldtstraße   \n",
       "\n",
       "                                                geometry angelegt_am  \\\n",
       "0      POLYGON ((398530.482 5807357.873, 398569.146 5...  11.09.2020   \n",
       "1      POLYGON ((398530.482 5807357.873, 398569.146 5...  09.09.2021   \n",
       "2      POLYGON ((398530.482 5807357.873, 398569.146 5...  12.10.2021   \n",
       "3      POLYGON ((398530.482 5807357.873, 398569.146 5...  17.06.2021   \n",
       "4      POLYGON ((398530.482 5807357.873, 398569.146 5...  17.09.2021   \n",
       "...                                                  ...         ...   \n",
       "39402  POLYGON ((388011.067 5826640.665, 388011.918 5...  01.11.2021   \n",
       "39403  POLYGON ((388011.067 5826640.665, 388011.918 5...  15.03.2020   \n",
       "39404  POLYGON ((388011.067 5826640.665, 388011.918 5...  20.04.2020   \n",
       "39405  POLYGON ((388011.067 5826640.665, 388011.918 5...  12.07.2021   \n",
       "39406  POLYGON ((388011.067 5826640.665, 388011.918 5...  04.08.2021   \n",
       "\n",
       "      tatzeit_anfang_datum  tatzeit_anfang_stunde tatzeit_ende_datum  \\\n",
       "0               04.09.2020                     10         04.09.2020   \n",
       "1               07.09.2021                     21         08.09.2021   \n",
       "2               10.10.2021                     16         11.10.2021   \n",
       "3               08.06.2021                     16         09.06.2021   \n",
       "4               16.09.2021                     23         17.09.2021   \n",
       "...                    ...                    ...                ...   \n",
       "39402           31.10.2021                     17         01.11.2021   \n",
       "39403           12.03.2020                     17         13.03.2020   \n",
       "39404           17.04.2020                     23         18.04.2020   \n",
       "39405           10.07.2021                     20         12.07.2021   \n",
       "39406           28.07.2021                     19         29.07.2021   \n",
       "\n",
       "       tatzeit_ende_stunde       lor  schadenshoehe versuch art_des_fahrrads  \\\n",
       "0                       10   8401245            305    Nein     Damenfahrrad   \n",
       "1                        6   8401245           1800    Nein          Fahrrad   \n",
       "2                       15   8401245           2532    Nein     Mountainbike   \n",
       "3                        6   8401245            589    Nein    Herrenfahrrad   \n",
       "4                        3   8401245            449    Nein    Herrenfahrrad   \n",
       "...                    ...       ...            ...     ...              ...   \n",
       "39402                    7  12100206            350    Nein     Damenfahrrad   \n",
       "39403                   15  12100206           3990    Nein          Fahrrad   \n",
       "39404                    8  12100206            579    Nein    Herrenfahrrad   \n",
       "39405                   10  12100206            850    Nein          Rennrad   \n",
       "39406                    8  12100206            200    Nein    Kinderfahrrad   \n",
       "\n",
       "                          delikt  \\\n",
       "0               Fahrraddiebstahl   \n",
       "1               Fahrraddiebstahl   \n",
       "2               Fahrraddiebstahl   \n",
       "3      Keller- und Bodeneinbruch   \n",
       "4               Fahrraddiebstahl   \n",
       "...                          ...   \n",
       "39402           Fahrraddiebstahl   \n",
       "39403           Fahrraddiebstahl   \n",
       "39404           Fahrraddiebstahl   \n",
       "39405           Fahrraddiebstahl   \n",
       "39406           Fahrraddiebstahl   \n",
       "\n",
       "                                         erfassungsgrund   lor_str    lor_zf  \\\n",
       "0            Sonstiger schwerer Diebstahl von Fahrrädern   8401245  08401245   \n",
       "1                     Einfacher Diebstahl von Fahrrädern   8401245  08401245   \n",
       "2            Sonstiger schwerer Diebstahl von Fahrrädern   8401245  08401245   \n",
       "3      Sonstiger schwerer Diebstahl in/aus Keller/Bod...   8401245  08401245   \n",
       "4            Sonstiger schwerer Diebstahl von Fahrrädern   8401245  08401245   \n",
       "...                                                  ...       ...       ...   \n",
       "39402        Sonstiger schwerer Diebstahl von Fahrrädern  12100206  12100206   \n",
       "39403        Sonstiger schwerer Diebstahl von Fahrrädern  12100206  12100206   \n",
       "39404        Sonstiger schwerer Diebstahl von Fahrrädern  12100206  12100206   \n",
       "39405        Sonstiger schwerer Diebstahl von Fahrrädern  12100206  12100206   \n",
       "39406        Sonstiger schwerer Diebstahl von Fahrrädern  12100206  12100206   \n",
       "\n",
       "       bzr_id pgr_id  \n",
       "0      401245   1245  \n",
       "1      401245   1245  \n",
       "2      401245   1245  \n",
       "3      401245   1245  \n",
       "4      401245   1245  \n",
       "...       ...    ...  \n",
       "39402  100206   0206  \n",
       "39403  100206   0206  \n",
       "39404  100206   0206  \n",
       "39405  100206   0206  \n",
       "39406  100206   0206  \n",
       "\n",
       "[39407 rows x 18 columns]"
      ]
     },
     "execution_count": 46,
     "metadata": {},
     "output_type": "execute_result"
    }
   ],
   "source": [
    "full_df = gdf.merge(df, on='plr_id')\n",
    "full_df"
   ]
  },
  {
   "cell_type": "code",
   "execution_count": 47,
   "metadata": {},
   "outputs": [],
   "source": [
    "gdf['plr_id'] = gdf['plr_id'].astype(str) "
   ]
  },
  {
   "cell_type": "code",
   "execution_count": 48,
   "metadata": {},
   "outputs": [
    {
     "name": "stdout",
     "output_type": "stream",
     "text": [
      "<class 'geopandas.geodataframe.GeoDataFrame'>\n",
      "RangeIndex: 542 entries, 0 to 541\n",
      "Data columns (total 3 columns):\n",
      " #   Column    Non-Null Count  Dtype   \n",
      "---  ------    --------------  -----   \n",
      " 0   plr_id    542 non-null    object  \n",
      " 1   plr_name  542 non-null    object  \n",
      " 2   geometry  542 non-null    geometry\n",
      "dtypes: geometry(1), object(2)\n",
      "memory usage: 12.8+ KB\n"
     ]
    }
   ],
   "source": [
    "gdf.info()"
   ]
  },
  {
   "cell_type": "code",
   "execution_count": 49,
   "metadata": {},
   "outputs": [],
   "source": [
    "df.bzr_id = df.bzr_id.str.encode('utf-8')"
   ]
  },
  {
   "cell_type": "code",
   "execution_count": 50,
   "metadata": {},
   "outputs": [
    {
     "name": "stderr",
     "output_type": "stream",
     "text": [
      "/Users/matthiasmotl/opt/anaconda3/envs/env_motl/lib/python3.10/site-packages/geopandas/geodataframe.py:182: UserWarning: Pandas doesn't allow columns to be created via a new attribute name - see https://pandas.pydata.org/pandas-docs/stable/indexing.html#attribute-access\n",
      "  super(GeoDataFrame, self).__setattr__(attr, val)\n"
     ]
    }
   ],
   "source": [
    "gdf.bzr_id = gdf.plr_id.str.encode('utf-8')"
   ]
  },
  {
   "cell_type": "code",
   "execution_count": 51,
   "metadata": {},
   "outputs": [
    {
     "data": {
      "text/plain": [
       "pandas.core.frame.DataFrame"
      ]
     },
     "execution_count": 51,
     "metadata": {},
     "output_type": "execute_result"
    }
   ],
   "source": [
    "type(pd.merge(\n",
    "    df, \n",
    "    gdf, \n",
    "    on='plr_id', \n",
    "    how='left'))"
   ]
  },
  {
   "cell_type": "code",
   "execution_count": 57,
   "metadata": {},
   "outputs": [],
   "source": [
    "df_full = pd.merge(\n",
    "    gdf, \n",
    "    df, \n",
    "    on='plr_id', \n",
    "    how='left')"
   ]
  },
  {
   "cell_type": "code",
   "execution_count": 59,
   "metadata": {},
   "outputs": [
    {
     "data": {
      "text/plain": [
       "geopandas.geodataframe.GeoDataFrame"
      ]
     },
     "execution_count": 59,
     "metadata": {},
     "output_type": "execute_result"
    }
   ],
   "source": [
    "type(df_full)"
   ]
  },
  {
   "cell_type": "code",
   "execution_count": 58,
   "metadata": {},
   "outputs": [
    {
     "data": {
      "text/html": [
       "<div>\n",
       "<style scoped>\n",
       "    .dataframe tbody tr th:only-of-type {\n",
       "        vertical-align: middle;\n",
       "    }\n",
       "\n",
       "    .dataframe tbody tr th {\n",
       "        vertical-align: top;\n",
       "    }\n",
       "\n",
       "    .dataframe thead th {\n",
       "        text-align: right;\n",
       "    }\n",
       "</style>\n",
       "<table border=\"1\" class=\"dataframe\">\n",
       "  <thead>\n",
       "    <tr style=\"text-align: right;\">\n",
       "      <th></th>\n",
       "      <th>plr_id</th>\n",
       "      <th>plr_name</th>\n",
       "      <th>geometry</th>\n",
       "      <th>angelegt_am</th>\n",
       "      <th>tatzeit_anfang_datum</th>\n",
       "      <th>tatzeit_anfang_stunde</th>\n",
       "      <th>tatzeit_ende_datum</th>\n",
       "      <th>tatzeit_ende_stunde</th>\n",
       "      <th>lor</th>\n",
       "      <th>schadenshoehe</th>\n",
       "      <th>versuch</th>\n",
       "      <th>art_des_fahrrads</th>\n",
       "      <th>delikt</th>\n",
       "      <th>erfassungsgrund</th>\n",
       "      <th>lor_str</th>\n",
       "      <th>lor_zf</th>\n",
       "      <th>bzr_id</th>\n",
       "      <th>pgr_id</th>\n",
       "    </tr>\n",
       "  </thead>\n",
       "  <tbody>\n",
       "    <tr>\n",
       "      <th>0</th>\n",
       "      <td>08401245</td>\n",
       "      <td>Frauenviertel</td>\n",
       "      <td>POLYGON ((398530.482 5807357.873, 398569.146 5...</td>\n",
       "      <td>11.09.2020</td>\n",
       "      <td>04.09.2020</td>\n",
       "      <td>10.0</td>\n",
       "      <td>04.09.2020</td>\n",
       "      <td>10.0</td>\n",
       "      <td>8401245.0</td>\n",
       "      <td>305.0</td>\n",
       "      <td>Nein</td>\n",
       "      <td>Damenfahrrad</td>\n",
       "      <td>Fahrraddiebstahl</td>\n",
       "      <td>Sonstiger schwerer Diebstahl von Fahrrädern</td>\n",
       "      <td>8401245</td>\n",
       "      <td>08401245</td>\n",
       "      <td>b'401245'</td>\n",
       "      <td>1245</td>\n",
       "    </tr>\n",
       "    <tr>\n",
       "      <th>1</th>\n",
       "      <td>08401245</td>\n",
       "      <td>Frauenviertel</td>\n",
       "      <td>POLYGON ((398530.482 5807357.873, 398569.146 5...</td>\n",
       "      <td>09.09.2021</td>\n",
       "      <td>07.09.2021</td>\n",
       "      <td>21.0</td>\n",
       "      <td>08.09.2021</td>\n",
       "      <td>6.0</td>\n",
       "      <td>8401245.0</td>\n",
       "      <td>1800.0</td>\n",
       "      <td>Nein</td>\n",
       "      <td>Fahrrad</td>\n",
       "      <td>Fahrraddiebstahl</td>\n",
       "      <td>Einfacher Diebstahl von Fahrrädern</td>\n",
       "      <td>8401245</td>\n",
       "      <td>08401245</td>\n",
       "      <td>b'401245'</td>\n",
       "      <td>1245</td>\n",
       "    </tr>\n",
       "  </tbody>\n",
       "</table>\n",
       "</div>"
      ],
      "text/plain": [
       "     plr_id       plr_name                                           geometry  \\\n",
       "0  08401245  Frauenviertel  POLYGON ((398530.482 5807357.873, 398569.146 5...   \n",
       "1  08401245  Frauenviertel  POLYGON ((398530.482 5807357.873, 398569.146 5...   \n",
       "\n",
       "  angelegt_am tatzeit_anfang_datum  tatzeit_anfang_stunde tatzeit_ende_datum  \\\n",
       "0  11.09.2020           04.09.2020                   10.0         04.09.2020   \n",
       "1  09.09.2021           07.09.2021                   21.0         08.09.2021   \n",
       "\n",
       "   tatzeit_ende_stunde        lor  schadenshoehe versuch art_des_fahrrads  \\\n",
       "0                 10.0  8401245.0          305.0    Nein     Damenfahrrad   \n",
       "1                  6.0  8401245.0         1800.0    Nein          Fahrrad   \n",
       "\n",
       "             delikt                              erfassungsgrund  lor_str  \\\n",
       "0  Fahrraddiebstahl  Sonstiger schwerer Diebstahl von Fahrrädern  8401245   \n",
       "1  Fahrraddiebstahl           Einfacher Diebstahl von Fahrrädern  8401245   \n",
       "\n",
       "     lor_zf     bzr_id pgr_id  \n",
       "0  08401245  b'401245'   1245  \n",
       "1  08401245  b'401245'   1245  "
      ]
     },
     "execution_count": 58,
     "metadata": {},
     "output_type": "execute_result"
    }
   ],
   "source": [
    "df_full.head(2)"
   ]
  },
  {
   "cell_type": "code",
   "execution_count": null,
   "metadata": {},
   "outputs": [],
   "source": []
  },
  {
   "cell_type": "code",
   "execution_count": 60,
   "metadata": {},
   "outputs": [
    {
     "data": {
      "text/plain": [
       "(39407, 18)"
      ]
     },
     "execution_count": 60,
     "metadata": {},
     "output_type": "execute_result"
    }
   ],
   "source": [
    "df_full.dropna(axis=0, inplace=True)\n",
    "df_full.shape"
   ]
  },
  {
   "cell_type": "code",
   "execution_count": 62,
   "metadata": {},
   "outputs": [
    {
     "data": {
      "text/plain": [
       "plr_id                   0\n",
       "plr_name                 0\n",
       "geometry                 0\n",
       "angelegt_am              0\n",
       "tatzeit_anfang_datum     0\n",
       "tatzeit_anfang_stunde    0\n",
       "tatzeit_ende_datum       0\n",
       "tatzeit_ende_stunde      0\n",
       "lor                      0\n",
       "schadenshoehe            0\n",
       "versuch                  0\n",
       "art_des_fahrrads         0\n",
       "delikt                   0\n",
       "erfassungsgrund          0\n",
       "lor_str                  0\n",
       "lor_zf                   0\n",
       "bzr_id                   0\n",
       "pgr_id                   0\n",
       "dtype: int64"
      ]
     },
     "execution_count": 62,
     "metadata": {},
     "output_type": "execute_result"
    }
   ],
   "source": [
    "df_full.isnull().sum()"
   ]
  },
  {
   "cell_type": "code",
   "execution_count": 63,
   "metadata": {},
   "outputs": [
    {
     "name": "stdout",
     "output_type": "stream",
     "text": [
      "User Guide: https://docs.kepler.gl/docs/keplergl-jupyter\n"
     ]
    },
    {
     "data": {
      "application/vnd.jupyter.widget-view+json": {
       "model_id": "8dd02baa2fc04e42a8a6cc84b77174b7",
       "version_major": 2,
       "version_minor": 0
      },
      "text/plain": [
       "KeplerGl()"
      ]
     },
     "metadata": {},
     "output_type": "display_data"
    }
   ],
   "source": [
    "# Load an empty map\n",
    "from keplergl import KeplerGl #import class KeplerGl from module keplergl ()\n",
    "map_1 = KeplerGl() #create an instance of this class\n",
    "# map_1 = KeplerGl(height=200)\n",
    "map_1"
   ]
  },
  {
   "cell_type": "code",
   "execution_count": 36,
   "metadata": {},
   "outputs": [],
   "source": [
    "\n",
    "map_1.add_data(data=df_full, name='geometry')"
   ]
  },
  {
   "cell_type": "code",
   "execution_count": 37,
   "metadata": {},
   "outputs": [
    {
     "data": {
      "application/vnd.jupyter.widget-view+json": {
       "model_id": "c08475c8a0a9489f9fa2e66da1c78aaa",
       "version_major": 2,
       "version_minor": 0
      },
      "text/plain": [
       "KeplerGl(config={'version': 'v1', 'config': {'visState': {'filters': [], 'layers': [{'id': 'bnuku2e', 'type': …"
      ]
     },
     "metadata": {},
     "output_type": "display_data"
    }
   ],
   "source": [
    "\n",
    "map_1"
   ]
  },
  {
   "cell_type": "code",
   "execution_count": 38,
   "metadata": {},
   "outputs": [
    {
     "data": {
      "image/png": "[encoded data removed]",
      "text/plain": [
       "<Figure size 1080x648 with 1 Axes>"
      ]
     },
     "metadata": {
      "needs_background": "light"
     },
     "output_type": "display_data"
    }
   ],
   "source": [
    "%matplotlib inline\n",
    "df_full.plot(color='green', markersize=15, figsize=(15,9));\n"
   ]
  },
  {
   "cell_type": "code",
   "execution_count": 36,
   "metadata": {},
   "outputs": [
    {
     "data": {
      "text/plain": [
       "geopandas.geodataframe.GeoDataFrame"
      ]
     },
     "execution_count": 36,
     "metadata": {},
     "output_type": "execute_result"
    }
   ],
   "source": [
    "type(df_short)"
   ]
  },
  {
   "cell_type": "code",
   "execution_count": null,
   "metadata": {},
   "outputs": [],
   "source": [
    "# Build the GeoDataFrame from Fiona Collection\n",
    "gd = gdp.GeoDataFrame.from_features([feature for feature in shape])#, crs=crs)\n",
    "# Get the order of the fields in the Fiona Collection; add geometry to the end\n",
    "columns = list(shape.meta[\"schema\"][\"properties\"]) + [\"geometry\"]\n",
    "# Re-order columns in the correct order\n",
    "gdf = gdf[columns]"
   ]
  },
  {
   "cell_type": "code",
   "execution_count": null,
   "metadata": {},
   "outputs": [],
   "source": []
  },
  {
   "cell_type": "code",
   "execution_count": null,
   "metadata": {},
   "outputs": [],
   "source": []
  },
  {
   "cell_type": "code",
   "execution_count": null,
   "metadata": {},
   "outputs": [],
   "source": [
    "df.head(5)"
   ]
  },
  {
   "cell_type": "code",
   "execution_count": null,
   "metadata": {},
   "outputs": [],
   "source": [
    "df.loc[df['art_des_fahrrads'].str.contains(\"herren\", case=False)]"
   ]
  },
  {
   "cell_type": "code",
   "execution_count": null,
   "metadata": {},
   "outputs": [],
   "source": []
  },
  {
   "cell_type": "code",
   "execution_count": null,
   "metadata": {},
   "outputs": [],
   "source": []
  },
  {
   "cell_type": "code",
   "execution_count": null,
   "metadata": {},
   "outputs": [],
   "source": [
    "df"
   ]
  },
  {
   "cell_type": "code",
   "execution_count": null,
   "metadata": {},
   "outputs": [],
   "source": [
    "type(df)"
   ]
  },
  {
   "cell_type": "code",
   "execution_count": null,
   "metadata": {},
   "outputs": [],
   "source": []
  },
  {
   "cell_type": "code",
   "execution_count": null,
   "metadata": {},
   "outputs": [],
   "source": []
  },
  {
   "cell_type": "code",
   "execution_count": null,
   "metadata": {},
   "outputs": [],
   "source": []
  },
  {
   "cell_type": "code",
   "execution_count": null,
   "metadata": {},
   "outputs": [],
   "source": []
  },
  {
   "cell_type": "code",
   "execution_count": null,
   "metadata": {},
   "outputs": [],
   "source": []
  }
 ],
 "metadata": {
  "interpreter": {
   "hash": "b9a9bc9575d4d164452a5eab5380f2f8b8862dcd0eab8623eb3551c948530407"
  },
  "kernelspec": {
   "display_name": "Python 3.8.5 64-bit ('nf_base': conda)",
   "language": "python",
   "name": "python3"
  },
  "language_info": {
   "codemirror_mode": {
    "name": "ipython",
    "version": 3
   },
   "file_extension": ".py",
   "mimetype": "text/x-python",
   "name": "python",
   "nbconvert_exporter": "python",
   "pygments_lexer": "ipython3",
   "version": "3.10.0"
  },
  "orig_nbformat": 4
 },
 "nbformat": 4,
 "nbformat_minor": 2
}
